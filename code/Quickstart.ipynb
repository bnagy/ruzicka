{
 "cells": [
  {
   "attachments": {},
   "cell_type": "markdown",
   "metadata": {},
   "source": [
    "# Ružička: Authorship Verification in Python"
   ]
  },
  {
   "attachments": {},
   "cell_type": "markdown",
   "metadata": {},
   "source": [
    "In this notebook, we offer a quick tutorial as to how you could use the code in this repository. While the package is very much geared towards our own work in authorship verification, you might some of the more general functions useful. All feedback and comments are welcome. This code assumes Python 2.7+ (Python 3 has not been tested). You do not need to install the library to run the code below, but please note that there are a number of well-known third-party Python libraries, including:\n",
    "+ numpy\n",
    "+ scipy\n",
    "+ scikit-learn\n",
    "+ matplotlib\n",
    "+ seaborn\n",
    "+ numba\n",
    "\n",
    "and preferably (for GPU acceleration and/or JIT-compilation):\n",
    "+ theano\n",
    "+ numbapro\n",
    "\n",
    "We recommend installing Continuum's excellent [Anaconda Python framework](https://www.continuum.io/downloads), which comes bundled with most of these dependencies.\n"
   ]
  },
  {
   "cell_type": "code",
   "execution_count": null,
   "metadata": {},
   "outputs": [],
   "source": [
    "import logging\n",
    "logging.basicConfig(level='INFO')"
   ]
  },
  {
   "attachments": {},
   "cell_type": "markdown",
   "metadata": {},
   "source": [
    "## Walk through"
   ]
  },
  {
   "attachments": {},
   "cell_type": "markdown",
   "metadata": {},
   "source": [
    "By default, we assume that your data sets are stored in a directory the format on the PAN 2014 track on authorship attribution: a directory should minimally include one folder per verification problem (an `unknown.txt` and at least one `known01.txt`) and a `truth.txt`. E.g. for the corpus of Dutch essays (`../data/2014/du_essays/train`), `truth.txt` contains has a tab-separated line with the ground truth for each problem:\n",
    "\n",
    "```\n",
    "DE001 Y\n",
    "DE002 Y\n",
    "DE003 N\n",
    "DE004 N\n",
    "DE005 N\n",
    "DE006 N\n",
    "DE007 N\n",
    "DE008 Y\n",
    "...\n",
    "```"
   ]
  },
  {
   "attachments": {},
   "cell_type": "markdown",
   "metadata": {},
   "source": [
    "To inspect the problems:"
   ]
  },
  {
   "cell_type": "code",
   "execution_count": 1,
   "metadata": {
    "collapsed": false
   },
   "outputs": [
    {
     "name": "stdout",
     "output_type": "stream",
     "text": [
      "\u001b[1m\u001b[36mDE001\u001b[m\u001b[m         \u001b[1m\u001b[36mDE021\u001b[m\u001b[m         \u001b[1m\u001b[36mDE041\u001b[m\u001b[m         \u001b[1m\u001b[36mDE061\u001b[m\u001b[m         \u001b[1m\u001b[36mDE081\u001b[m\u001b[m\n",
      "\u001b[1m\u001b[36mDE002\u001b[m\u001b[m         \u001b[1m\u001b[36mDE022\u001b[m\u001b[m         \u001b[1m\u001b[36mDE042\u001b[m\u001b[m         \u001b[1m\u001b[36mDE062\u001b[m\u001b[m         \u001b[1m\u001b[36mDE082\u001b[m\u001b[m\n",
      "\u001b[1m\u001b[36mDE003\u001b[m\u001b[m         \u001b[1m\u001b[36mDE023\u001b[m\u001b[m         \u001b[1m\u001b[36mDE043\u001b[m\u001b[m         \u001b[1m\u001b[36mDE063\u001b[m\u001b[m         \u001b[1m\u001b[36mDE083\u001b[m\u001b[m\n",
      "\u001b[1m\u001b[36mDE004\u001b[m\u001b[m         \u001b[1m\u001b[36mDE024\u001b[m\u001b[m         \u001b[1m\u001b[36mDE044\u001b[m\u001b[m         \u001b[1m\u001b[36mDE064\u001b[m\u001b[m         \u001b[1m\u001b[36mDE084\u001b[m\u001b[m\n",
      "\u001b[1m\u001b[36mDE005\u001b[m\u001b[m         \u001b[1m\u001b[36mDE025\u001b[m\u001b[m         \u001b[1m\u001b[36mDE045\u001b[m\u001b[m         \u001b[1m\u001b[36mDE065\u001b[m\u001b[m         \u001b[1m\u001b[36mDE085\u001b[m\u001b[m\n",
      "\u001b[1m\u001b[36mDE006\u001b[m\u001b[m         \u001b[1m\u001b[36mDE026\u001b[m\u001b[m         \u001b[1m\u001b[36mDE046\u001b[m\u001b[m         \u001b[1m\u001b[36mDE066\u001b[m\u001b[m         \u001b[1m\u001b[36mDE086\u001b[m\u001b[m\n",
      "\u001b[1m\u001b[36mDE007\u001b[m\u001b[m         \u001b[1m\u001b[36mDE027\u001b[m\u001b[m         \u001b[1m\u001b[36mDE047\u001b[m\u001b[m         \u001b[1m\u001b[36mDE067\u001b[m\u001b[m         \u001b[1m\u001b[36mDE087\u001b[m\u001b[m\n",
      "\u001b[1m\u001b[36mDE008\u001b[m\u001b[m         \u001b[1m\u001b[36mDE028\u001b[m\u001b[m         \u001b[1m\u001b[36mDE048\u001b[m\u001b[m         \u001b[1m\u001b[36mDE068\u001b[m\u001b[m         \u001b[1m\u001b[36mDE088\u001b[m\u001b[m\n",
      "\u001b[1m\u001b[36mDE009\u001b[m\u001b[m         \u001b[1m\u001b[36mDE029\u001b[m\u001b[m         \u001b[1m\u001b[36mDE049\u001b[m\u001b[m         \u001b[1m\u001b[36mDE069\u001b[m\u001b[m         \u001b[1m\u001b[36mDE089\u001b[m\u001b[m\n",
      "\u001b[1m\u001b[36mDE010\u001b[m\u001b[m         \u001b[1m\u001b[36mDE030\u001b[m\u001b[m         \u001b[1m\u001b[36mDE050\u001b[m\u001b[m         \u001b[1m\u001b[36mDE070\u001b[m\u001b[m         \u001b[1m\u001b[36mDE090\u001b[m\u001b[m\n",
      "\u001b[1m\u001b[36mDE011\u001b[m\u001b[m         \u001b[1m\u001b[36mDE031\u001b[m\u001b[m         \u001b[1m\u001b[36mDE051\u001b[m\u001b[m         \u001b[1m\u001b[36mDE071\u001b[m\u001b[m         \u001b[1m\u001b[36mDE091\u001b[m\u001b[m\n",
      "\u001b[1m\u001b[36mDE012\u001b[m\u001b[m         \u001b[1m\u001b[36mDE032\u001b[m\u001b[m         \u001b[1m\u001b[36mDE052\u001b[m\u001b[m         \u001b[1m\u001b[36mDE072\u001b[m\u001b[m         \u001b[1m\u001b[36mDE092\u001b[m\u001b[m\n",
      "\u001b[1m\u001b[36mDE013\u001b[m\u001b[m         \u001b[1m\u001b[36mDE033\u001b[m\u001b[m         \u001b[1m\u001b[36mDE053\u001b[m\u001b[m         \u001b[1m\u001b[36mDE073\u001b[m\u001b[m         \u001b[1m\u001b[36mDE093\u001b[m\u001b[m\n",
      "\u001b[1m\u001b[36mDE014\u001b[m\u001b[m         \u001b[1m\u001b[36mDE034\u001b[m\u001b[m         \u001b[1m\u001b[36mDE054\u001b[m\u001b[m         \u001b[1m\u001b[36mDE074\u001b[m\u001b[m         \u001b[1m\u001b[36mDE094\u001b[m\u001b[m\n",
      "\u001b[1m\u001b[36mDE015\u001b[m\u001b[m         \u001b[1m\u001b[36mDE035\u001b[m\u001b[m         \u001b[1m\u001b[36mDE055\u001b[m\u001b[m         \u001b[1m\u001b[36mDE075\u001b[m\u001b[m         \u001b[1m\u001b[36mDE095\u001b[m\u001b[m\n",
      "\u001b[1m\u001b[36mDE016\u001b[m\u001b[m         \u001b[1m\u001b[36mDE036\u001b[m\u001b[m         \u001b[1m\u001b[36mDE056\u001b[m\u001b[m         \u001b[1m\u001b[36mDE076\u001b[m\u001b[m         \u001b[1m\u001b[36mDE096\u001b[m\u001b[m\n",
      "\u001b[1m\u001b[36mDE017\u001b[m\u001b[m         \u001b[1m\u001b[36mDE037\u001b[m\u001b[m         \u001b[1m\u001b[36mDE057\u001b[m\u001b[m         \u001b[1m\u001b[36mDE077\u001b[m\u001b[m         \u001b[31mcontents.json\u001b[m\u001b[m\n",
      "\u001b[1m\u001b[36mDE018\u001b[m\u001b[m         \u001b[1m\u001b[36mDE038\u001b[m\u001b[m         \u001b[1m\u001b[36mDE058\u001b[m\u001b[m         \u001b[1m\u001b[36mDE078\u001b[m\u001b[m         \u001b[31mtruth.json\u001b[m\u001b[m\n",
      "\u001b[1m\u001b[36mDE019\u001b[m\u001b[m         \u001b[1m\u001b[36mDE039\u001b[m\u001b[m         \u001b[1m\u001b[36mDE059\u001b[m\u001b[m         \u001b[1m\u001b[36mDE079\u001b[m\u001b[m         \u001b[31mtruth.txt\u001b[m\u001b[m\n",
      "\u001b[1m\u001b[36mDE020\u001b[m\u001b[m         \u001b[1m\u001b[36mDE040\u001b[m\u001b[m         \u001b[1m\u001b[36mDE060\u001b[m\u001b[m         \u001b[1m\u001b[36mDE080\u001b[m\u001b[m\n"
     ]
    }
   ],
   "source": [
    "! ls ../data/2014/du_essays/train"
   ]
  },
  {
   "attachments": {},
   "cell_type": "markdown",
   "metadata": {},
   "source": [
    "Let us now load the set of development problems for the Dutch essays:"
   ]
  },
  {
   "cell_type": "code",
   "execution_count": 2,
   "metadata": {
    "collapsed": false
   },
   "outputs": [],
   "source": [
    "from ruzicka.utilities import *\n",
    "\n",
    "D = \"../data/2014/du_essays/\"\n",
    "dev_train_data, dev_test_data = load_pan_dataset(D + \"train\")"
   ]
  },
  {
   "attachments": {},
   "cell_type": "markdown",
   "metadata": {},
   "source": [
    "This functions loads all documents and splits the development data into a development part (the known documents) and a testing part (the unknown documents). We can unpack these as follows:"
   ]
  },
  {
   "cell_type": "code",
   "execution_count": 3,
   "metadata": {
    "collapsed": true
   },
   "outputs": [],
   "source": [
    "dev_train_labels, dev_train_documents = zip(*dev_train_data)\n",
    "dev_test_labels, dev_test_documents = zip(*dev_test_data)"
   ]
  },
  {
   "attachments": {},
   "cell_type": "markdown",
   "metadata": {},
   "source": [
    "Let us have a look at the actual test texts:"
   ]
  },
  {
   "cell_type": "code",
   "execution_count": 4,
   "metadata": {
    "collapsed": false
   },
   "outputs": [
    {
     "name": "stdout",
     "output_type": "stream",
     "text": [
      "+  ﻿Dankzij het internet zijn we een grote bron aan informatie rijker . A\n",
      "+  ﻿Het is dus begrijpelijk dat de commerciële zenders meer reclame moete\n",
      "+  ﻿\" Hey , vuile nicht ! Hangt er nog stront aan je lul ? \" . Dergelijke\n",
      "+  ﻿Gelijkheid tussen man en vrouw is iets dat ons al eeuwen in de ban ho\n",
      "+  ﻿Gisteren was er opnieuw een protest tegen homofilie in de grootstad P\n",
      "+  ﻿Voetbal is vandaag de dag zonder twijfel de populairste sport in Belg\n",
      "+  ﻿Door de ongekende groei van nieuwsbronnen en de opkomst van het inter\n",
      "+  ﻿Woordenboekgebruik uit interesse De categorie woordenboekgebruikers d\n",
      "+  ﻿Ze bouwden een tegencultuur op die alles verwierp waar hun ouders alt\n",
      "+  ﻿Als we hier in België op straat rondlopen , merken we dat er zeer vee\n"
     ]
    }
   ],
   "source": [
    "for doc in dev_test_documents[:10]:\n",
    "    print(\"+ \", doc[:70])"
   ]
  },
  {
   "attachments": {},
   "cell_type": "markdown",
   "metadata": {},
   "source": [
    "For each of these documents we need to decide whether or not they were in fact written by the target authors proposed:"
   ]
  },
  {
   "cell_type": "code",
   "execution_count": 5,
   "metadata": {
    "collapsed": false
   },
   "outputs": [
    {
     "name": "stdout",
     "output_type": "stream",
     "text": [
      "+  DE001\n",
      "+  DE002\n",
      "+  DE003\n",
      "+  DE004\n",
      "+  DE005\n",
      "+  DE006\n",
      "+  DE007\n",
      "+  DE008\n",
      "+  DE009\n",
      "+  DE010\n"
     ]
    }
   ],
   "source": [
    "for doc in dev_test_labels[:10]:\n",
    "    print(\"+ \", doc[:70])"
   ]
  },
  {
   "attachments": {},
   "cell_type": "markdown",
   "metadata": {},
   "source": [
    "The first and crucial step is to vectorize the documents using a vector space model. Below, we use generic example, using the 10,000 most common word unigrams and a plain *tf* model:"
   ]
  },
  {
   "cell_type": "code",
   "execution_count": 6,
   "metadata": {
    "collapsed": true
   },
   "outputs": [],
   "source": [
    "from ruzicka.vectorization import Vectorizer\n",
    "\n",
    "vectorizer = Vectorizer(mfi=10000, vector_space=\"tf\", ngram_type=\"word\", ngram_size=1)\n",
    "\n",
    "dev_train_X = vectorizer.fit_transform(dev_train_documents)\n",
    "dev_test_X = vectorizer.transform(dev_test_documents)"
   ]
  },
  {
   "cell_type": "code",
   "execution_count": 7,
   "metadata": {},
   "outputs": [
    {
     "data": {
      "text/plain": [
       "numpy.ndarray"
      ]
     },
     "execution_count": 7,
     "metadata": {},
     "output_type": "execute_result"
    }
   ],
   "source": [
    "dev_test_X.__class__"
   ]
  },
  {
   "attachments": {},
   "cell_type": "markdown",
   "metadata": {},
   "source": [
    "Note that we use `sklearn` conventions here: we fit the vectorizer only on the vocabulary of the known documents and apply it it later to the unknown documents (since in real life too, we will not necessarily know the known documents in advance). This gives us two compatible corpus matrices:"
   ]
  },
  {
   "cell_type": "code",
   "execution_count": 8,
   "metadata": {
    "collapsed": false
   },
   "outputs": [
    {
     "name": "stdout",
     "output_type": "stream",
     "text": [
      "(172, 9347)\n",
      "(96, 9347)\n"
     ]
    }
   ],
   "source": [
    "print(dev_train_X.shape)\n",
    "print(dev_test_X.shape)"
   ]
  },
  {
   "attachments": {},
   "cell_type": "markdown",
   "metadata": {},
   "source": [
    "We now encode the author labels in the development problem sets as integers, using sklearn's convenient `LabelEncoder`:"
   ]
  },
  {
   "cell_type": "code",
   "execution_count": 9,
   "metadata": {
    "collapsed": false
   },
   "outputs": [
    {
     "name": "stdout",
     "output_type": "stream",
     "text": [
      "[ 0  1  2  3  4  5  6  7  8  9 10 11 12 13 14 15 16 17 18 19 20 21 22 23\n",
      " 24 25 26 27 28 29 30 31 32 33 34 35 36 37 38 39 40 41 42 43 44 45 46 47\n",
      " 48 49 50 51 52 53 54 55 56 57 58 59 60 61 62 63 64 65 66 67 68 69 70 71\n",
      " 72 73 74 75 76 77 78 79 80 81 82 83 84 85 86 87 88 89 90 91 92 93 94 95]\n"
     ]
    }
   ],
   "source": [
    "from sklearn.preprocessing import LabelEncoder\n",
    "\n",
    "label_encoder = LabelEncoder()\n",
    "label_encoder.fit(dev_train_labels + dev_test_labels)\n",
    "dev_train_y = np.array(label_encoder.transform(dev_train_labels))\n",
    "dev_test_y = np.array(label_encoder.transform(dev_test_labels))\n",
    "print(dev_test_y)"
   ]
  },
  {
   "attachments": {},
   "cell_type": "markdown",
   "metadata": {},
   "source": [
    "We now construct and fit an 'O2' verifier: this extrinsic verification technique is based on the General Imposters framework. We apply it with the minmax metric and a profile base, meaning that the known documents for each author will be represented as a mean centroid:"
   ]
  },
  {
   "cell_type": "code",
   "execution_count": 10,
   "metadata": {
    "collapsed": false
   },
   "outputs": [],
   "source": [
    "from ruzicka.Order2Verifier import Order2Verifier\n",
    "\n",
    "dev_verifier = Order2Verifier(\n",
    "    metric=\"minmax\", base=\"profile\", nb_bootstrap_iter=100, rnd_prop=0.5\n",
    ")\n",
    "dev_verifier.fit(dev_train_X, dev_train_y)"
   ]
  },
  {
   "attachments": {},
   "cell_type": "markdown",
   "metadata": {},
   "source": [
    "We can now obtain the probability which this O1 verifier would assign to each combination of an unknown document and the target author suggested in the problem:"
   ]
  },
  {
   "cell_type": "code",
   "execution_count": 11,
   "metadata": {
    "collapsed": false
   },
   "outputs": [],
   "source": [
    "dev_test_scores = dev_verifier.predict_proba(\n",
    "    test_X=dev_test_X, test_y=dev_test_y, nb_imposters=30\n",
    ")"
   ]
  },
  {
   "attachments": {},
   "cell_type": "markdown",
   "metadata": {},
   "source": [
    "This gives us as an array of probability scores for each problem, corresponding to the number of iterations in which the target's author's profile was closer to the anonymous document than to one of the imposters:"
   ]
  },
  {
   "cell_type": "code",
   "execution_count": 12,
   "metadata": {
    "collapsed": false
   },
   "outputs": [
    {
     "name": "stdout",
     "output_type": "stream",
     "text": [
      "[0.79 0.69 0.01 0.   0.08 0.04 0.02 1.   0.99 0.69 0.51 0.28 0.88 0.97\n",
      " 0.01 0.58 0.62 0.   0.01 0.34 0.   0.   0.59 0.43 0.   0.76 0.03 0.53\n",
      " 0.03 0.01 0.01 0.   0.28 0.   0.   0.26 0.   0.04 0.04 0.   0.12 0.81\n",
      " 0.   0.74 0.99 0.   0.34 0.03 0.   0.2  0.02 0.45 0.07 0.47 0.65 0.\n",
      " 0.01 0.71 0.02 0.69 0.98 0.65 0.92 0.46 0.54 0.98 0.81 0.12 0.5  0.91\n",
      " 0.28 0.01 0.01 0.4  0.07 0.15 0.24 0.   0.97 0.   0.89 0.26 0.   0.\n",
      " 0.99 0.   1.   0.62 0.   0.   0.   0.6  0.   0.   0.45 0.71]\n"
     ]
    }
   ],
   "source": [
    "print(dev_test_scores)"
   ]
  },
  {
   "attachments": {},
   "cell_type": "markdown",
   "metadata": {},
   "source": [
    "Let us now load the ground truth to check how well we did:"
   ]
  },
  {
   "cell_type": "code",
   "execution_count": 13,
   "metadata": {
    "collapsed": false
   },
   "outputs": [
    {
     "name": "stdout",
     "output_type": "stream",
     "text": [
      "[1.0, 1.0, 0.0, 0.0, 0.0, 0.0, 0.0, 1.0, 1.0, 1.0, 1.0, 1.0, 1.0, 1.0, 1.0, 1.0, 1.0, 0.0, 0.0, 1.0, 0.0, 0.0, 1.0, 1.0, 0.0, 1.0, 0.0, 1.0, 0.0, 0.0, 0.0, 0.0, 1.0, 0.0, 0.0, 1.0, 0.0, 0.0, 1.0, 0.0, 0.0, 1.0, 0.0, 1.0, 1.0, 0.0, 1.0, 0.0, 0.0, 1.0, 0.0, 1.0, 0.0, 0.0, 1.0, 0.0, 0.0, 1.0, 0.0, 1.0, 0.0, 1.0, 1.0, 1.0, 1.0, 1.0, 1.0, 1.0, 1.0, 1.0, 0.0, 0.0, 0.0, 1.0, 0.0, 0.0, 1.0, 0.0, 1.0, 0.0, 1.0, 1.0, 0.0, 0.0, 1.0, 0.0, 1.0, 1.0, 0.0, 0.0, 0.0, 1.0, 0.0, 0.0, 1.0, 0.0]\n"
     ]
    }
   ],
   "source": [
    "dev_gt_scores = load_ground_truth(\n",
    "    filepath=os.sep.join((D, \"train\", \"truth.txt\")), labels=dev_test_labels\n",
    ")\n",
    "print(dev_gt_scores)"
   ]
  },
  {
   "attachments": {},
   "cell_type": "markdown",
   "metadata": {},
   "source": [
    "There is one final step needed: the PAN evaluation measures allow systems to leave a number of difficult problems unanswered, by setting the probability exactly at 0.5. To account for this strict threshold, we fit a score shifter, which will attempt to rectify mid-range score to 0.5. We can tune these parameters as follows:"
   ]
  },
  {
   "cell_type": "code",
   "execution_count": 14,
   "metadata": {
    "collapsed": false
   },
   "outputs": [
    {
     "name": "stdout",
     "output_type": "stream",
     "text": [
      "p1 for optimal combo: 0.08\n",
      "p2 for optimal combo: 0.29\n",
      "AUC for optimal combo: 0.9461805555555556\n",
      "c@1 for optimal combo: 0.931640625\n"
     ]
    }
   ],
   "source": [
    "from ruzicka.score_shifting import ScoreShifter\n",
    "\n",
    "shifter = ScoreShifter()\n",
    "shifter.fit(predicted_scores=dev_test_scores, ground_truth_scores=dev_gt_scores)\n",
    "dev_test_scores = shifter.transform(dev_test_scores)"
   ]
  },
  {
   "attachments": {},
   "cell_type": "markdown",
   "metadata": {},
   "source": [
    "As you can see, this shifter optimizes 2 parameters using a grid search: all values in between *p1* and *p2* will be rectified to 0.5:"
   ]
  },
  {
   "cell_type": "code",
   "execution_count": 15,
   "metadata": {
    "collapsed": false
   },
   "outputs": [
    {
     "name": "stdout",
     "output_type": "stream",
     "text": [
      "[0.8509, 0.7798999999999999, 0.0007999999999999995, 0.0, 0.006399999999999996, 0.003199999999999998, 0.001599999999999999, 1.0, 0.9928999999999999, 0.7798999999999999, 0.6520999999999999, 0.5, 0.9148000000000001, 0.9786999999999999, 0.0007999999999999995, 0.7018, 0.7301999999999998, 0.0, 0.0007999999999999995, 0.5313999999999999, 0.0, 0.0, 0.7088999999999999, 0.5952999999999999, 0.0, 0.8295999999999999, 0.0023999999999999985, 0.6662999999999999, 0.0023999999999999985, 0.0007999999999999995, 0.0007999999999999995, 0.0, 0.5, 0.0, 0.0, 0.5, 0.0, 0.003199999999999998, 0.003199999999999998, 0.0, 0.5, 0.8651, 0.0, 0.8153999999999999, 0.9928999999999999, 0.0, 0.5313999999999999, 0.0023999999999999985, 0.0, 0.5, 0.001599999999999999, 0.6094999999999999, 0.005599999999999997, 0.6236999999999999, 0.7514999999999998, 0.0, 0.0007999999999999995, 0.7941, 0.001599999999999999, 0.7798999999999999, 0.9858, 0.7514999999999998, 0.9431999999999998, 0.6165999999999999, 0.6733999999999999, 0.9858, 0.8651, 0.5, 0.6449999999999999, 0.9360999999999999, 0.5, 0.0007999999999999995, 0.0007999999999999995, 0.5739999999999998, 0.005599999999999997, 0.5, 0.5, 0.0, 0.9786999999999999, 0.0, 0.9218999999999999, 0.5, 0.0, 0.0, 0.9928999999999999, 0.0, 1.0, 0.7301999999999998, 0.0, 0.0, 0.0, 0.7159999999999999, 0.0, 0.0, 0.6094999999999999, 0.7941]\n"
     ]
    }
   ],
   "source": [
    "print(dev_test_scores)"
   ]
  },
  {
   "attachments": {},
   "cell_type": "markdown",
   "metadata": {},
   "source": [
    "We can later apply this optimized score shifter to the test problems. Now the main question: how well would our O2 verifier perform on the development problems, given the optimal *p1* and *p2* found? We answer this question using the three evaluation measures used in the PAN competition."
   ]
  },
  {
   "cell_type": "code",
   "execution_count": 16,
   "metadata": {
    "collapsed": false
   },
   "outputs": [
    {
     "name": "stdout",
     "output_type": "stream",
     "text": [
      "Accuracy:  0.9166666666666666\n",
      "AUC:  0.9461805555555556\n",
      "c@1:  0.931640625\n",
      "AUC x c@1:  0.881500244140625\n"
     ]
    }
   ],
   "source": [
    "from ruzicka.evaluation import pan_metrics\n",
    "\n",
    "dev_acc_score, dev_auc_score, dev_c_at_1_score = pan_metrics(\n",
    "    prediction_scores=dev_test_scores, ground_truth_scores=dev_gt_scores\n",
    ")\n",
    "print(\"Accuracy: \", dev_acc_score)\n",
    "print(\"AUC: \", dev_auc_score)\n",
    "print(\"c@1: \", dev_c_at_1_score)\n",
    "print(\"AUC x c@1: \", dev_auc_score * dev_c_at_1_score)"
   ]
  },
  {
   "attachments": {},
   "cell_type": "markdown",
   "metadata": {},
   "source": [
    "Our score shifting approach clearly pays off, since we are able to leave difficult problems unswered, yielding to a higher c@1 than pure accuracy. We can now proceed to the test problems. The following code block runs entire parallel to the approach above: only the score shifter isn't retrained again:"
   ]
  },
  {
   "cell_type": "code",
   "execution_count": 17,
   "metadata": {
    "collapsed": false
   },
   "outputs": [
    {
     "name": "stdout",
     "output_type": "stream",
     "text": [
      "Accuracy:  0.875\n",
      "AUC:  0.9696180555555556\n",
      "c@1:  0.931640625\n",
      "AUC x c@1:  0.9033355712890625\n"
     ]
    }
   ],
   "source": [
    "train_data, test_data = load_pan_dataset(D + \"test\")\n",
    "train_labels, train_documents = zip(*train_data)\n",
    "test_labels, test_documents = zip(*test_data)\n",
    "\n",
    "# vectorize:\n",
    "vectorizer = Vectorizer(mfi=10000, vector_space=\"tf\", ngram_type=\"word\", ngram_size=1)\n",
    "train_X = vectorizer.fit_transform(train_documents)\n",
    "test_X = vectorizer.transform(test_documents)\n",
    "\n",
    "# encode author labels:\n",
    "label_encoder = LabelEncoder()\n",
    "label_encoder.fit(train_labels + test_labels)\n",
    "train_y = np.array(label_encoder.transform(train_labels), dtype=\"int\")\n",
    "test_y = np.array(label_encoder.transform(test_labels), dtype=\"int\")\n",
    "\n",
    "# fit and predict a verifier on the test data:\n",
    "test_verifier = Order2Verifier(\n",
    "    metric=\"minmax\", base=\"profile\", nb_bootstrap_iter=100, rnd_prop=0.5\n",
    ")\n",
    "test_verifier.fit(train_X, train_y)\n",
    "test_scores = test_verifier.predict_proba(\n",
    "    test_X=test_X, test_y=np.array(test_y), nb_imposters=30\n",
    ")\n",
    "\n",
    "# load the ground truth:\n",
    "test_gt_scores = load_ground_truth(\n",
    "    filepath=os.sep.join((D, \"test\", \"truth.txt\")), labels=test_labels\n",
    ")\n",
    "\n",
    "# apply the optimzed score shifter:\n",
    "test_scores = shifter.transform(test_scores)\n",
    "\n",
    "test_acc_score, test_auc_score, test_c_at_1_score = pan_metrics(\n",
    "    prediction_scores=test_scores, ground_truth_scores=test_gt_scores\n",
    ")\n",
    "\n",
    "print(\"Accuracy: \", test_acc_score)\n",
    "print(\"AUC: \", test_auc_score)\n",
    "print(\"c@1: \", test_c_at_1_score)\n",
    "print(\"AUC x c@1: \", test_auc_score * test_c_at_1_score)"
   ]
  },
  {
   "attachments": {},
   "cell_type": "markdown",
   "metadata": {},
   "source": [
    "While our final test results are a bit lower, the verifier seems to scale reasonably well to the unseen verification problems in the test set."
   ]
  },
  {
   "attachments": {},
   "cell_type": "markdown",
   "metadata": {},
   "source": [
    "# First Order Verification"
   ]
  },
  {
   "attachments": {},
   "cell_type": "markdown",
   "metadata": {},
   "source": [
    "It is interesting now to compare the GI approach to a first-order verification system, which often yields very competitive results too. Our implementation closely resembles the system proposed by Potha and Stamatatos in 2014 (A Profile-based Method for Authorship Verification). We import and fit this O1 verifier:"
   ]
  },
  {
   "cell_type": "code",
   "execution_count": 18,
   "metadata": {
    "collapsed": false
   },
   "outputs": [
    {
     "name": "stdout",
     "output_type": "stream",
     "text": [
      "[7.01701389e-01 7.27071174e-01 3.76331733e-01 2.88794318e-01\n",
      " 4.90409427e-01 4.27132694e-01 3.89021319e-01 8.98192784e-01\n",
      " 8.61084515e-01 6.34507071e-01 5.58205461e-01 5.11698323e-01\n",
      " 7.80041118e-01 7.29013056e-01 2.33797115e-01 6.14428227e-01\n",
      " 3.00901073e-01 1.54614571e-01 3.77635597e-01 5.08868067e-01\n",
      " 3.61916662e-01 2.05110484e-01 5.61369766e-01 4.35112027e-01\n",
      " 3.47092624e-01 4.76222136e-01 2.90966704e-01 4.25212460e-01\n",
      " 3.30160565e-01 2.82626913e-01 2.93608704e-01 2.50841079e-01\n",
      " 4.04443303e-01 2.20956493e-01 2.75386099e-01 4.93162012e-01\n",
      " 1.84686492e-01 4.19353839e-01 1.80123950e-01 3.01737629e-01\n",
      " 4.68989173e-01 6.70957431e-01 3.42831850e-01 6.01500209e-01\n",
      " 8.86454495e-01 1.07882863e-01 4.63055368e-01 3.90022158e-01\n",
      " 2.62076781e-01 2.19900711e-01 3.54165384e-01 3.32777758e-01\n",
      " 3.84111272e-01 2.31650037e-01 6.09673932e-01 1.75322827e-01\n",
      " 4.45181997e-01 6.94471446e-01 3.78935565e-01 6.27183739e-01\n",
      " 5.08018571e-01 6.30246320e-01 8.07823689e-01 5.81900865e-01\n",
      " 5.38796443e-01 7.26327119e-01 6.16353303e-01 3.68591715e-01\n",
      " 6.12683495e-01 7.62574115e-01 1.19201610e-01 2.22044605e-16\n",
      " 1.43187316e-02 4.64826109e-01 2.07245233e-01 5.41420920e-02\n",
      " 3.22930734e-01 2.76916512e-01 7.82553115e-01 2.53037884e-01\n",
      " 4.99092460e-01 4.01785718e-01 2.42495506e-01 2.60907431e-01\n",
      " 8.51328753e-01 2.35752666e-01 1.00000000e+00 6.26897034e-01\n",
      " 2.29790270e-01 1.04482370e-01 2.66608814e-01 4.88093387e-01\n",
      " 3.14576794e-01 1.58305210e-01 5.28108990e-01 5.39476725e-01]\n"
     ]
    }
   ],
   "source": [
    "from ruzicka.Order1Verifier import Order1Verifier\n",
    "\n",
    "dev_verifier = Order1Verifier(metric=\"minmax\", base=\"profile\")\n",
    "dev_verifier.fit(dev_train_X, dev_train_y)\n",
    "dev_test_scores = dev_verifier.predict_proba(test_X=dev_test_X, test_y=dev_test_y)\n",
    "print(dev_test_scores)"
   ]
  },
  {
   "attachments": {},
   "cell_type": "markdown",
   "metadata": {},
   "source": [
    "Note that in this case, the 'probabilities' returned are only distance-based pseudo-probabilities and don't lie in the range of 0-1. Applying the score shifter is therefore quintessential with O1, since it will scale the distances to a more useful range:"
   ]
  },
  {
   "cell_type": "code",
   "execution_count": 19,
   "metadata": {
    "collapsed": false
   },
   "outputs": [
    {
     "name": "stdout",
     "output_type": "stream",
     "text": [
      "p1 for optimal combo: 0.4\n",
      "p2 for optimal combo: 0.47\n",
      "AUC for optimal combo: 0.904513888888889\n",
      "c@1 for optimal combo: 0.8741319444444444\n",
      "[0.8419017359935173, 0.8553477220231838, 0.15053269329768626, 0.11551772735208198, 0.7299169963137953, 0.5, 0.15560852751315557, 0.9460421752963407, 0.9263747928625592, 0.8062887475417948, 0.765848894174316, 0.7412001114343534, 0.8834217927147184, 0.85637691987103, 0.09351884596681884, 0.7956469605047912, 0.12036042901403372, 0.061845828485266735, 0.15105423890906988, 0.7397000756258421, 0.144766664715685, 0.08204419361515838, 0.7675259759154384, 0.5, 0.13883704976265296, 0.7223977320117336, 0.11638668160158078, 0.5, 0.13206422617873098, 0.1130507651392888, 0.1174434814338157, 0.10033643156983099, 0.5, 0.08838259739667048, 0.11015443956248164, 0.7313758661859044, 0.07387459694578445, 0.5, 0.07204958015563766, 0.12069505173174132, 0.5, 0.8256074382194236, 0.13713273983072913, 0.7887951107272342, 0.9398208822606706, 0.04315314523239408, 0.5, 0.15600886329938662, 0.10483071236672521, 0.08796028455792115, 0.14166615370159674, 0.1331111032379135, 0.15364450871256846, 0.09266001468198548, 0.7931271839179548, 0.07012913081205428, 0.5, 0.838069866568929, 0.15157422580985602, 0.8024073819127057, 0.7392498428352992, 0.8040305494804385, 0.8981465553673609, 0.7784074583604369, 0.7555621150452063, 0.8549533731300153, 0.7966672505540884, 0.14743668584554348, 0.7947222521075312, 0.8741642811277679, 0.047680644133910925, 0.0, 0.005727492632547195, 0.5, 0.0828980933680872, 0.021656836816826803, 0.12917229372322583, 0.11076660494269606, 0.8847531508635005, 0.10121515348038818, 0.734519004012968, 0.5, 0.09699820241007873, 0.10436297236752855, 0.9212042390149381, 0.09430106633020129, 1.0, 0.8022554282517422, 0.09191610786854282, 0.041792948004595154, 0.1066435256806398, 0.7286894950886336, 0.12583071761432899, 0.06332208403680958, 0.7498977649536398, 0.7559226643204084]\n"
     ]
    }
   ],
   "source": [
    "shifter = ScoreShifter()\n",
    "shifter.fit(predicted_scores=dev_test_scores, ground_truth_scores=dev_gt_scores)\n",
    "dev_test_scores = shifter.transform(dev_test_scores)\n",
    "print(dev_test_scores)"
   ]
  },
  {
   "attachments": {},
   "cell_type": "markdown",
   "metadata": {
    "collapsed": false
   },
   "source": [
    "And again, we are now ready to test the performance of O1 on the test problems."
   ]
  },
  {
   "cell_type": "code",
   "execution_count": 20,
   "metadata": {
    "collapsed": false
   },
   "outputs": [
    {
     "name": "stdout",
     "output_type": "stream",
     "text": [
      "Accuracy:  0.8125\n",
      "AUC:  0.8899739583333334\n",
      "c@1:  0.830078125\n",
      "AUC x c@1:  0.7387479146321615\n"
     ]
    }
   ],
   "source": [
    "train_data, test_data = load_pan_dataset(D + \"test\")\n",
    "train_labels, train_documents = zip(*train_data)\n",
    "test_labels, test_documents = zip(*test_data)\n",
    "\n",
    "# vectorize:\n",
    "vectorizer = Vectorizer(mfi=10000, vector_space=\"tf\", ngram_type=\"word\", ngram_size=1)\n",
    "train_X = vectorizer.fit_transform(train_documents)\n",
    "test_X = vectorizer.transform(test_documents)\n",
    "\n",
    "# encode author labels:\n",
    "label_encoder = LabelEncoder()\n",
    "label_encoder.fit(train_labels + test_labels)\n",
    "train_y = np.array(label_encoder.transform(train_labels), dtype=\"int\")\n",
    "test_y = np.array(label_encoder.transform(test_labels), dtype=\"int\")\n",
    "\n",
    "# fit and predict a verifier on the test data:\n",
    "test_verifier = Order1Verifier(metric=\"minmax\", base=\"profile\")\n",
    "test_verifier.fit(train_X, train_y)\n",
    "test_scores = test_verifier.predict_proba(test_X=test_X, test_y=test_y)\n",
    "\n",
    "# load the ground truth:\n",
    "test_gt_scores = load_ground_truth(\n",
    "    filepath=os.sep.join((D, \"test\", \"truth.txt\")), labels=test_labels\n",
    ")\n",
    "\n",
    "# apply the optimzed score shifter:\n",
    "test_scores = shifter.transform(test_scores)\n",
    "\n",
    "test_acc_score, test_auc_score, test_c_at_1_score = pan_metrics(\n",
    "    prediction_scores=test_scores, ground_truth_scores=test_gt_scores\n",
    ")\n",
    "\n",
    "print(\"Accuracy: \", test_acc_score)\n",
    "print(\"AUC: \", test_auc_score)\n",
    "print(\"c@1: \", test_c_at_1_score)\n",
    "print(\"AUC x c@1: \", test_auc_score * test_c_at_1_score)"
   ]
  },
  {
   "cell_type": "code",
   "execution_count": null,
   "metadata": {},
   "outputs": [],
   "source": []
  }
 ],
 "metadata": {
  "kernelspec": {
   "display_name": "py39",
   "language": "python",
   "name": "python3"
  },
  "language_info": {
   "codemirror_mode": {
    "name": "ipython",
    "version": 3
   },
   "file_extension": ".py",
   "mimetype": "text/x-python",
   "name": "python",
   "nbconvert_exporter": "python",
   "pygments_lexer": "ipython3",
   "version": "3.9.11"
  }
 },
 "nbformat": 4,
 "nbformat_minor": 0
}
