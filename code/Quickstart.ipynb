{
 "cells": [
  {
   "attachments": {},
   "cell_type": "markdown",
   "metadata": {},
   "source": [
    "# Ružička: Authorship Verification in Python"
   ]
  },
  {
   "attachments": {},
   "cell_type": "markdown",
   "metadata": {},
   "source": [
    "In this notebook, we offer a quick tutorial as to how you could use the code in this repository. While the package is very much geared towards our own work in authorship verification, you might some of the more general functions useful. All feedback and comments are welcome. This code assumes Python 2.7+ (Python 3 has not been tested). You do not need to install the library to run the code below, but please note that there are a number of well-known third-party Python libraries, including:\n",
    "+ numpy\n",
    "+ scipy\n",
    "+ scikit-learn\n",
    "+ matplotlib\n",
    "+ seaborn\n",
    "+ numba\n",
    "\n",
    "and preferably (for GPU acceleration and/or JIT-compilation):\n",
    "+ theano\n",
    "+ numbapro\n",
    "\n",
    "We recommend installing Continuum's excellent [Anaconda Python framework](https://www.continuum.io/downloads), which comes bundled with most of these dependencies.\n"
   ]
  },
  {
   "cell_type": "code",
   "execution_count": 1,
   "metadata": {},
   "outputs": [],
   "source": [
    "import logging\n",
    "\n",
    "logging.basicConfig(level=\"INFO\")"
   ]
  },
  {
   "cell_type": "code",
   "execution_count": 2,
   "metadata": {},
   "outputs": [],
   "source": [
    "from ruzicka.test_metrics import nini\n",
    "import numpy as np\n",
    "from scipy.stats import pearsonr\n",
    "from sklearn.pipeline import make_pipeline\n",
    "from sklearn.preprocessing import FunctionTransformer\n",
    "from sklearn.feature_extraction.text import TfidfVectorizer"
   ]
  },
  {
   "cell_type": "code",
   "execution_count": 3,
   "metadata": {},
   "outputs": [],
   "source": [
    "a = np.array([1, 1, 0, 1, 1, 0, 0])\n",
    "b = np.array([1, 0, 0, 1, 1, 1, 0])"
   ]
  },
  {
   "cell_type": "code",
   "execution_count": 4,
   "metadata": {},
   "outputs": [
    {
     "name": "stdout",
     "output_type": "stream",
     "text": [
      "195 ns ± 2.26 ns per loop (mean ± std. dev. of 7 runs, 1,000,000 loops each)\n"
     ]
    }
   ],
   "source": [
    "%%timeit\n",
    "\n",
    "nini(a, b)"
   ]
  },
  {
   "cell_type": "code",
   "execution_count": 5,
   "metadata": {},
   "outputs": [
    {
     "data": {
      "text/plain": [
       "CPUDispatcher(<function manhattan at 0x10a040790>)"
      ]
     },
     "execution_count": 5,
     "metadata": {},
     "output_type": "execute_result"
    }
   ],
   "source": [
    "import ruzicka.test_metrics\n",
    "\n",
    "ruzicka.test_metrics.manhattan"
   ]
  },
  {
   "cell_type": "code",
   "execution_count": 6,
   "metadata": {},
   "outputs": [
    {
     "name": "stdout",
     "output_type": "stream",
     "text": [
      "0.9011635\n",
      "0.8937567080000006\n",
      "0.8986360000000007\n",
      "0.9022851250000006\n",
      "1.0776017500000012\n"
     ]
    }
   ],
   "source": [
    "import timeit\n",
    "\n",
    "setup = \"\"\"\n",
    "import ruzicka.test_metrics\n",
    "import numpy as np\n",
    "\n",
    "a = np.array([1, 1, 0, 1, 1, 0, 0]*100)\n",
    "b = np.array([1, 0, 0, 1, 1, 1, 0]*100)\n",
    "\"\"\"\n",
    "CPU_METRICS = [\"manhattan\", \"euclidean\", \"minmax\", \"cosine\", \"nini\"]\n",
    "for m in CPU_METRICS:\n",
    "    s = f\"ruzicka.test_metrics.{m}(a,b)\"\n",
    "    print(timeit.timeit(s, setup=setup))"
   ]
  },
  {
   "cell_type": "code",
   "execution_count": 7,
   "metadata": {},
   "outputs": [
    {
     "data": {
      "text/plain": [
       "0.5833333333333333"
      ]
     },
     "execution_count": 7,
     "metadata": {},
     "output_type": "execute_result"
    }
   ],
   "source": [
    "1.0 - pearsonr(a, b)[0]"
   ]
  },
  {
   "attachments": {},
   "cell_type": "markdown",
   "metadata": {},
   "source": [
    "## Walk through"
   ]
  },
  {
   "attachments": {},
   "cell_type": "markdown",
   "metadata": {},
   "source": [
    "By default, we assume that your data sets are stored in a directory the format on the PAN 2014 track on authorship attribution: a directory should minimally include one folder per verification problem (an `unknown.txt` and at least one `known01.txt`) and a `truth.txt`. E.g. for the corpus of Dutch essays (`../data/2014/du_essays/train`), `truth.txt` contains has a tab-separated line with the ground truth for each problem:\n",
    "\n",
    "```\n",
    "DE001 Y\n",
    "DE002 Y\n",
    "DE003 N\n",
    "DE004 N\n",
    "DE005 N\n",
    "DE006 N\n",
    "DE007 N\n",
    "DE008 Y\n",
    "...\n",
    "```"
   ]
  },
  {
   "attachments": {},
   "cell_type": "markdown",
   "metadata": {},
   "source": [
    "To inspect the problems:"
   ]
  },
  {
   "cell_type": "code",
   "execution_count": 8,
   "metadata": {
    "collapsed": false
   },
   "outputs": [
    {
     "name": "stdout",
     "output_type": "stream",
     "text": [
      "\u001b[1m\u001b[36mDE001\u001b[m\u001b[m         \u001b[1m\u001b[36mDE021\u001b[m\u001b[m         \u001b[1m\u001b[36mDE041\u001b[m\u001b[m         \u001b[1m\u001b[36mDE061\u001b[m\u001b[m         \u001b[1m\u001b[36mDE081\u001b[m\u001b[m\n",
      "\u001b[1m\u001b[36mDE002\u001b[m\u001b[m         \u001b[1m\u001b[36mDE022\u001b[m\u001b[m         \u001b[1m\u001b[36mDE042\u001b[m\u001b[m         \u001b[1m\u001b[36mDE062\u001b[m\u001b[m         \u001b[1m\u001b[36mDE082\u001b[m\u001b[m\n",
      "\u001b[1m\u001b[36mDE003\u001b[m\u001b[m         \u001b[1m\u001b[36mDE023\u001b[m\u001b[m         \u001b[1m\u001b[36mDE043\u001b[m\u001b[m         \u001b[1m\u001b[36mDE063\u001b[m\u001b[m         \u001b[1m\u001b[36mDE083\u001b[m\u001b[m\n",
      "\u001b[1m\u001b[36mDE004\u001b[m\u001b[m         \u001b[1m\u001b[36mDE024\u001b[m\u001b[m         \u001b[1m\u001b[36mDE044\u001b[m\u001b[m         \u001b[1m\u001b[36mDE064\u001b[m\u001b[m         \u001b[1m\u001b[36mDE084\u001b[m\u001b[m\n",
      "\u001b[1m\u001b[36mDE005\u001b[m\u001b[m         \u001b[1m\u001b[36mDE025\u001b[m\u001b[m         \u001b[1m\u001b[36mDE045\u001b[m\u001b[m         \u001b[1m\u001b[36mDE065\u001b[m\u001b[m         \u001b[1m\u001b[36mDE085\u001b[m\u001b[m\n",
      "\u001b[1m\u001b[36mDE006\u001b[m\u001b[m         \u001b[1m\u001b[36mDE026\u001b[m\u001b[m         \u001b[1m\u001b[36mDE046\u001b[m\u001b[m         \u001b[1m\u001b[36mDE066\u001b[m\u001b[m         \u001b[1m\u001b[36mDE086\u001b[m\u001b[m\n",
      "\u001b[1m\u001b[36mDE007\u001b[m\u001b[m         \u001b[1m\u001b[36mDE027\u001b[m\u001b[m         \u001b[1m\u001b[36mDE047\u001b[m\u001b[m         \u001b[1m\u001b[36mDE067\u001b[m\u001b[m         \u001b[1m\u001b[36mDE087\u001b[m\u001b[m\n",
      "\u001b[1m\u001b[36mDE008\u001b[m\u001b[m         \u001b[1m\u001b[36mDE028\u001b[m\u001b[m         \u001b[1m\u001b[36mDE048\u001b[m\u001b[m         \u001b[1m\u001b[36mDE068\u001b[m\u001b[m         \u001b[1m\u001b[36mDE088\u001b[m\u001b[m\n",
      "\u001b[1m\u001b[36mDE009\u001b[m\u001b[m         \u001b[1m\u001b[36mDE029\u001b[m\u001b[m         \u001b[1m\u001b[36mDE049\u001b[m\u001b[m         \u001b[1m\u001b[36mDE069\u001b[m\u001b[m         \u001b[1m\u001b[36mDE089\u001b[m\u001b[m\n",
      "\u001b[1m\u001b[36mDE010\u001b[m\u001b[m         \u001b[1m\u001b[36mDE030\u001b[m\u001b[m         \u001b[1m\u001b[36mDE050\u001b[m\u001b[m         \u001b[1m\u001b[36mDE070\u001b[m\u001b[m         \u001b[1m\u001b[36mDE090\u001b[m\u001b[m\n",
      "\u001b[1m\u001b[36mDE011\u001b[m\u001b[m         \u001b[1m\u001b[36mDE031\u001b[m\u001b[m         \u001b[1m\u001b[36mDE051\u001b[m\u001b[m         \u001b[1m\u001b[36mDE071\u001b[m\u001b[m         \u001b[1m\u001b[36mDE091\u001b[m\u001b[m\n",
      "\u001b[1m\u001b[36mDE012\u001b[m\u001b[m         \u001b[1m\u001b[36mDE032\u001b[m\u001b[m         \u001b[1m\u001b[36mDE052\u001b[m\u001b[m         \u001b[1m\u001b[36mDE072\u001b[m\u001b[m         \u001b[1m\u001b[36mDE092\u001b[m\u001b[m\n",
      "\u001b[1m\u001b[36mDE013\u001b[m\u001b[m         \u001b[1m\u001b[36mDE033\u001b[m\u001b[m         \u001b[1m\u001b[36mDE053\u001b[m\u001b[m         \u001b[1m\u001b[36mDE073\u001b[m\u001b[m         \u001b[1m\u001b[36mDE093\u001b[m\u001b[m\n",
      "\u001b[1m\u001b[36mDE014\u001b[m\u001b[m         \u001b[1m\u001b[36mDE034\u001b[m\u001b[m         \u001b[1m\u001b[36mDE054\u001b[m\u001b[m         \u001b[1m\u001b[36mDE074\u001b[m\u001b[m         \u001b[1m\u001b[36mDE094\u001b[m\u001b[m\n",
      "\u001b[1m\u001b[36mDE015\u001b[m\u001b[m         \u001b[1m\u001b[36mDE035\u001b[m\u001b[m         \u001b[1m\u001b[36mDE055\u001b[m\u001b[m         \u001b[1m\u001b[36mDE075\u001b[m\u001b[m         \u001b[1m\u001b[36mDE095\u001b[m\u001b[m\n",
      "\u001b[1m\u001b[36mDE016\u001b[m\u001b[m         \u001b[1m\u001b[36mDE036\u001b[m\u001b[m         \u001b[1m\u001b[36mDE056\u001b[m\u001b[m         \u001b[1m\u001b[36mDE076\u001b[m\u001b[m         \u001b[1m\u001b[36mDE096\u001b[m\u001b[m\n",
      "\u001b[1m\u001b[36mDE017\u001b[m\u001b[m         \u001b[1m\u001b[36mDE037\u001b[m\u001b[m         \u001b[1m\u001b[36mDE057\u001b[m\u001b[m         \u001b[1m\u001b[36mDE077\u001b[m\u001b[m         \u001b[31mcontents.json\u001b[m\u001b[m\n",
      "\u001b[1m\u001b[36mDE018\u001b[m\u001b[m         \u001b[1m\u001b[36mDE038\u001b[m\u001b[m         \u001b[1m\u001b[36mDE058\u001b[m\u001b[m         \u001b[1m\u001b[36mDE078\u001b[m\u001b[m         \u001b[31mtruth.json\u001b[m\u001b[m\n",
      "\u001b[1m\u001b[36mDE019\u001b[m\u001b[m         \u001b[1m\u001b[36mDE039\u001b[m\u001b[m         \u001b[1m\u001b[36mDE059\u001b[m\u001b[m         \u001b[1m\u001b[36mDE079\u001b[m\u001b[m         \u001b[31mtruth.txt\u001b[m\u001b[m\n",
      "\u001b[1m\u001b[36mDE020\u001b[m\u001b[m         \u001b[1m\u001b[36mDE040\u001b[m\u001b[m         \u001b[1m\u001b[36mDE060\u001b[m\u001b[m         \u001b[1m\u001b[36mDE080\u001b[m\u001b[m\n"
     ]
    }
   ],
   "source": [
    "! ls ../data/2014/du_essays/train"
   ]
  },
  {
   "attachments": {},
   "cell_type": "markdown",
   "metadata": {},
   "source": [
    "Let us now load the set of development problems for the Dutch essays:"
   ]
  },
  {
   "cell_type": "code",
   "execution_count": 9,
   "metadata": {
    "collapsed": false
   },
   "outputs": [],
   "source": [
    "from ruzicka.utilities import *\n",
    "\n",
    "D = \"../data/2014/du_essays/\"\n",
    "dev_train_data, dev_test_data = load_pan_dataset(D + \"train\")"
   ]
  },
  {
   "attachments": {},
   "cell_type": "markdown",
   "metadata": {},
   "source": [
    "This functions loads all documents and splits the development data into a development part (the known documents) and a testing part (the unknown documents). We can unpack these as follows:"
   ]
  },
  {
   "cell_type": "code",
   "execution_count": 10,
   "metadata": {
    "collapsed": true
   },
   "outputs": [],
   "source": [
    "dev_train_labels, dev_train_documents = zip(*dev_train_data)\n",
    "dev_test_labels, dev_test_documents = zip(*dev_test_data)"
   ]
  },
  {
   "attachments": {},
   "cell_type": "markdown",
   "metadata": {},
   "source": [
    "Let us have a look at the actual test texts:"
   ]
  },
  {
   "cell_type": "code",
   "execution_count": 11,
   "metadata": {
    "collapsed": false
   },
   "outputs": [
    {
     "name": "stdout",
     "output_type": "stream",
     "text": [
      "+  ﻿Dankzij het internet zijn we een grote bron aan informatie rijker . A\n",
      "+  ﻿Het is dus begrijpelijk dat de commerciële zenders meer reclame moete\n",
      "+  ﻿\" Hey , vuile nicht ! Hangt er nog stront aan je lul ? \" . Dergelijke\n",
      "+  ﻿Gelijkheid tussen man en vrouw is iets dat ons al eeuwen in de ban ho\n",
      "+  ﻿Gisteren was er opnieuw een protest tegen homofilie in de grootstad P\n",
      "+  ﻿Voetbal is vandaag de dag zonder twijfel de populairste sport in Belg\n",
      "+  ﻿Door de ongekende groei van nieuwsbronnen en de opkomst van het inter\n",
      "+  ﻿Woordenboekgebruik uit interesse De categorie woordenboekgebruikers d\n",
      "+  ﻿Ze bouwden een tegencultuur op die alles verwierp waar hun ouders alt\n",
      "+  ﻿Als we hier in België op straat rondlopen , merken we dat er zeer vee\n"
     ]
    }
   ],
   "source": [
    "for doc in dev_test_documents[:10]:\n",
    "    print(\"+ \", doc[:70])"
   ]
  },
  {
   "attachments": {},
   "cell_type": "markdown",
   "metadata": {},
   "source": [
    "For each of these documents we need to decide whether or not they were in fact written by the target authors proposed:"
   ]
  },
  {
   "cell_type": "code",
   "execution_count": 12,
   "metadata": {
    "collapsed": false
   },
   "outputs": [
    {
     "name": "stdout",
     "output_type": "stream",
     "text": [
      "+  DE001\n",
      "+  DE002\n",
      "+  DE003\n",
      "+  DE004\n",
      "+  DE005\n",
      "+  DE006\n",
      "+  DE007\n",
      "+  DE008\n",
      "+  DE009\n",
      "+  DE010\n"
     ]
    }
   ],
   "source": [
    "for doc in dev_test_labels[:10]:\n",
    "    print(\"+ \", doc[:70])"
   ]
  },
  {
   "attachments": {},
   "cell_type": "markdown",
   "metadata": {},
   "source": [
    "The first and crucial step is to vectorize the documents using a vector space model. Below, we use generic example, using the 10,000 most common word unigrams and a plain *tf* model:"
   ]
  },
  {
   "cell_type": "code",
   "execution_count": 13,
   "metadata": {
    "collapsed": true
   },
   "outputs": [],
   "source": [
    "# from ruzicka.vectorization import Vectorizer\n",
    "vectorizer = make_pipeline(\n",
    "    TfidfVectorizer(\n",
    "        sublinear_tf=True,\n",
    "        use_idf=False,\n",
    "        norm=\"l2\",\n",
    "        analyzer=\"char\",\n",
    "        ngram_range=(9, 9),\n",
    "        max_features=10000,\n",
    "    ),\n",
    "    FunctionTransformer(lambda x: x.todense(), accept_sparse=True),\n",
    ")\n",
    "# vectorizer = Vectorizer(mfi=10000, vector_space=\"tf\", ngram_type=\"word\", ngram_size=1)\n",
    "\n",
    "dev_train_X = vectorizer.fit_transform(dev_train_documents)\n",
    "dev_test_X = vectorizer.transform(dev_test_documents)"
   ]
  },
  {
   "cell_type": "code",
   "execution_count": 14,
   "metadata": {},
   "outputs": [
    {
     "data": {
      "text/plain": [
       "numpy.matrix"
      ]
     },
     "execution_count": 14,
     "metadata": {},
     "output_type": "execute_result"
    }
   ],
   "source": [
    "dev_test_X.__class__"
   ]
  },
  {
   "attachments": {},
   "cell_type": "markdown",
   "metadata": {},
   "source": [
    "Note that we use `sklearn` conventions here: we fit the vectorizer only on the vocabulary of the known documents and apply it it later to the unknown documents (since in real life too, we will not necessarily know the known documents in advance). This gives us two compatible corpus matrices:"
   ]
  },
  {
   "cell_type": "code",
   "execution_count": 15,
   "metadata": {
    "collapsed": false
   },
   "outputs": [
    {
     "name": "stdout",
     "output_type": "stream",
     "text": [
      "(172, 10000)\n",
      "(96, 10000)\n"
     ]
    }
   ],
   "source": [
    "print(dev_train_X.shape)\n",
    "print(dev_test_X.shape)"
   ]
  },
  {
   "attachments": {},
   "cell_type": "markdown",
   "metadata": {},
   "source": [
    "We now encode the author labels in the development problem sets as integers, using sklearn's convenient `LabelEncoder`:"
   ]
  },
  {
   "cell_type": "code",
   "execution_count": 16,
   "metadata": {
    "collapsed": false
   },
   "outputs": [
    {
     "name": "stdout",
     "output_type": "stream",
     "text": [
      "[ 0  1  2  3  4  5  6  7  8  9 10 11 12 13 14 15 16 17 18 19 20 21 22 23\n",
      " 24 25 26 27 28 29 30 31 32 33 34 35 36 37 38 39 40 41 42 43 44 45 46 47\n",
      " 48 49 50 51 52 53 54 55 56 57 58 59 60 61 62 63 64 65 66 67 68 69 70 71\n",
      " 72 73 74 75 76 77 78 79 80 81 82 83 84 85 86 87 88 89 90 91 92 93 94 95]\n"
     ]
    }
   ],
   "source": [
    "from sklearn.preprocessing import LabelEncoder\n",
    "\n",
    "label_encoder = LabelEncoder()\n",
    "label_encoder.fit(dev_train_labels + dev_test_labels)\n",
    "dev_train_y = np.array(label_encoder.transform(dev_train_labels))\n",
    "dev_test_y = np.array(label_encoder.transform(dev_test_labels))\n",
    "print(dev_test_y)"
   ]
  },
  {
   "attachments": {},
   "cell_type": "markdown",
   "metadata": {},
   "source": [
    "We now construct and fit an 'O2' verifier: this extrinsic verification technique is based on the General Imposters framework. We apply it with the minmax metric and a profile base, meaning that the known documents for each author will be represented as a mean centroid:"
   ]
  },
  {
   "cell_type": "code",
   "execution_count": 17,
   "metadata": {
    "collapsed": false
   },
   "outputs": [],
   "source": [
    "from ruzicka.Order2Verifier import Order2Verifier\n",
    "\n",
    "dev_verifier = Order2Verifier(\n",
    "    metric=\"nini\", base=\"profile\", rank=True, nb_bootstrap_iter=100, rnd_prop=0.35\n",
    ")\n",
    "dev_verifier.fit(dev_train_X, dev_train_y)"
   ]
  },
  {
   "cell_type": "code",
   "execution_count": 18,
   "metadata": {},
   "outputs": [
    {
     "name": "stdout",
     "output_type": "stream",
     "text": [
      "Starting manhattan\n"
     ]
    },
    {
     "name": "stderr",
     "output_type": "stream",
     "text": [
      "08/07/2023 03:10:35 [ruzicka:INFO] # test documents processed: 10 out of 96\n",
      "08/07/2023 03:10:36 [ruzicka:INFO] # test documents processed: 20 out of 96\n",
      "08/07/2023 03:10:36 [ruzicka:INFO] # test documents processed: 30 out of 96\n",
      "08/07/2023 03:10:36 [ruzicka:INFO] # test documents processed: 40 out of 96\n",
      "08/07/2023 03:10:36 [ruzicka:INFO] # test documents processed: 50 out of 96\n",
      "08/07/2023 03:10:37 [ruzicka:INFO] # test documents processed: 60 out of 96\n",
      "08/07/2023 03:10:37 [ruzicka:INFO] # test documents processed: 70 out of 96\n",
      "08/07/2023 03:10:37 [ruzicka:INFO] # test documents processed: 80 out of 96\n",
      "08/07/2023 03:10:38 [ruzicka:INFO] # test documents processed: 90 out of 96\n"
     ]
    },
    {
     "name": "stdout",
     "output_type": "stream",
     "text": [
      "Time: 2.9504449367523193\n",
      "Starting euclidean\n"
     ]
    },
    {
     "name": "stderr",
     "output_type": "stream",
     "text": [
      "08/07/2023 03:10:38 [ruzicka:INFO] # test documents processed: 10 out of 96\n",
      "08/07/2023 03:10:38 [ruzicka:INFO] # test documents processed: 20 out of 96\n",
      "08/07/2023 03:10:39 [ruzicka:INFO] # test documents processed: 30 out of 96\n",
      "08/07/2023 03:10:39 [ruzicka:INFO] # test documents processed: 40 out of 96\n",
      "08/07/2023 03:10:39 [ruzicka:INFO] # test documents processed: 50 out of 96\n",
      "08/07/2023 03:10:40 [ruzicka:INFO] # test documents processed: 60 out of 96\n",
      "08/07/2023 03:10:40 [ruzicka:INFO] # test documents processed: 70 out of 96\n",
      "08/07/2023 03:10:40 [ruzicka:INFO] # test documents processed: 80 out of 96\n",
      "08/07/2023 03:10:41 [ruzicka:INFO] # test documents processed: 90 out of 96\n"
     ]
    },
    {
     "name": "stdout",
     "output_type": "stream",
     "text": [
      "Time: 2.8919949531555176\n",
      "Starting minmax\n"
     ]
    },
    {
     "name": "stderr",
     "output_type": "stream",
     "text": [
      "08/07/2023 03:10:41 [ruzicka:INFO] # test documents processed: 10 out of 96\n",
      "08/07/2023 03:10:41 [ruzicka:INFO] # test documents processed: 20 out of 96\n",
      "08/07/2023 03:10:42 [ruzicka:INFO] # test documents processed: 30 out of 96\n",
      "08/07/2023 03:10:42 [ruzicka:INFO] # test documents processed: 40 out of 96\n",
      "08/07/2023 03:10:42 [ruzicka:INFO] # test documents processed: 50 out of 96\n",
      "08/07/2023 03:10:43 [ruzicka:INFO] # test documents processed: 60 out of 96\n",
      "08/07/2023 03:10:43 [ruzicka:INFO] # test documents processed: 70 out of 96\n",
      "08/07/2023 03:10:43 [ruzicka:INFO] # test documents processed: 80 out of 96\n",
      "08/07/2023 03:10:43 [ruzicka:INFO] # test documents processed: 90 out of 96\n"
     ]
    },
    {
     "name": "stdout",
     "output_type": "stream",
     "text": [
      "Time: 2.9051671028137207\n",
      "Starting cng\n"
     ]
    },
    {
     "name": "stderr",
     "output_type": "stream",
     "text": [
      "08/07/2023 03:10:44 [ruzicka:INFO] # test documents processed: 10 out of 96\n",
      "08/07/2023 03:10:44 [ruzicka:INFO] # test documents processed: 20 out of 96\n",
      "08/07/2023 03:10:45 [ruzicka:INFO] # test documents processed: 30 out of 96\n",
      "08/07/2023 03:10:45 [ruzicka:INFO] # test documents processed: 40 out of 96\n",
      "08/07/2023 03:10:45 [ruzicka:INFO] # test documents processed: 50 out of 96\n",
      "08/07/2023 03:10:45 [ruzicka:INFO] # test documents processed: 60 out of 96\n",
      "08/07/2023 03:10:46 [ruzicka:INFO] # test documents processed: 70 out of 96\n",
      "08/07/2023 03:10:46 [ruzicka:INFO] # test documents processed: 80 out of 96\n",
      "08/07/2023 03:10:46 [ruzicka:INFO] # test documents processed: 90 out of 96\n"
     ]
    },
    {
     "name": "stdout",
     "output_type": "stream",
     "text": [
      "Time: 2.6542868614196777\n",
      "Starting cosine\n"
     ]
    },
    {
     "name": "stderr",
     "output_type": "stream",
     "text": [
      "08/07/2023 03:10:47 [ruzicka:INFO] # test documents processed: 10 out of 96\n",
      "08/07/2023 03:10:47 [ruzicka:INFO] # test documents processed: 20 out of 96\n",
      "08/07/2023 03:10:47 [ruzicka:INFO] # test documents processed: 30 out of 96\n",
      "08/07/2023 03:10:48 [ruzicka:INFO] # test documents processed: 40 out of 96\n",
      "08/07/2023 03:10:48 [ruzicka:INFO] # test documents processed: 50 out of 96\n",
      "08/07/2023 03:10:48 [ruzicka:INFO] # test documents processed: 60 out of 96\n",
      "08/07/2023 03:10:48 [ruzicka:INFO] # test documents processed: 70 out of 96\n",
      "08/07/2023 03:10:49 [ruzicka:INFO] # test documents processed: 80 out of 96\n",
      "08/07/2023 03:10:49 [ruzicka:INFO] # test documents processed: 90 out of 96\n"
     ]
    },
    {
     "name": "stdout",
     "output_type": "stream",
     "text": [
      "Time: 2.8551769256591797\n",
      "Starting nini\n"
     ]
    },
    {
     "name": "stderr",
     "output_type": "stream",
     "text": [
      "08/07/2023 03:10:50 [ruzicka:INFO] # test documents processed: 10 out of 96\n",
      "08/07/2023 03:10:50 [ruzicka:INFO] # test documents processed: 20 out of 96\n",
      "08/07/2023 03:10:50 [ruzicka:INFO] # test documents processed: 30 out of 96\n",
      "08/07/2023 03:10:50 [ruzicka:INFO] # test documents processed: 40 out of 96\n",
      "08/07/2023 03:10:51 [ruzicka:INFO] # test documents processed: 50 out of 96\n",
      "08/07/2023 03:10:51 [ruzicka:INFO] # test documents processed: 60 out of 96\n",
      "08/07/2023 03:10:51 [ruzicka:INFO] # test documents processed: 70 out of 96\n",
      "08/07/2023 03:10:52 [ruzicka:INFO] # test documents processed: 80 out of 96\n",
      "08/07/2023 03:10:52 [ruzicka:INFO] # test documents processed: 90 out of 96\n"
     ]
    },
    {
     "name": "stdout",
     "output_type": "stream",
     "text": [
      "Time: 3.1775009632110596\n"
     ]
    }
   ],
   "source": [
    "import time\n",
    "\n",
    "CPU_METRICS = [\"manhattan\", \"euclidean\", \"minmax\", \"cng\", \"cosine\", \"nini\"]\n",
    "for d in CPU_METRICS[0:]:\n",
    "    print(f\"Starting {d}\")\n",
    "    dev_verifier = Order2Verifier(\n",
    "        metric=d, base=\"profile\", rank=True, nb_bootstrap_iter=100, rnd_prop=0.35\n",
    "    )\n",
    "    dev_verifier.fit(dev_train_X, dev_train_y)\n",
    "    t = time.time()\n",
    "    dev_test_scores = dev_verifier.predict_proba(\n",
    "        test_X=dev_test_X, test_y=dev_test_y, nb_imposters=30\n",
    "    )\n",
    "    print(f\"Time: {time.time()-t}\")"
   ]
  },
  {
   "attachments": {},
   "cell_type": "markdown",
   "metadata": {},
   "source": [
    "We can now obtain the probability which this O1 verifier would assign to each combination of an unknown document and the target author suggested in the problem:"
   ]
  },
  {
   "cell_type": "code",
   "execution_count": 19,
   "metadata": {
    "collapsed": false
   },
   "outputs": [
    {
     "name": "stderr",
     "output_type": "stream",
     "text": [
      "08/07/2023 03:10:53 [ruzicka:INFO] # test documents processed: 10 out of 96\n",
      "08/07/2023 03:10:53 [ruzicka:INFO] # test documents processed: 20 out of 96\n",
      "08/07/2023 03:10:53 [ruzicka:INFO] # test documents processed: 30 out of 96\n",
      "08/07/2023 03:10:54 [ruzicka:INFO] # test documents processed: 40 out of 96\n",
      "08/07/2023 03:10:54 [ruzicka:INFO] # test documents processed: 50 out of 96\n",
      "08/07/2023 03:10:54 [ruzicka:INFO] # test documents processed: 60 out of 96\n",
      "08/07/2023 03:10:55 [ruzicka:INFO] # test documents processed: 70 out of 96\n",
      "08/07/2023 03:10:55 [ruzicka:INFO] # test documents processed: 80 out of 96\n",
      "08/07/2023 03:10:55 [ruzicka:INFO] # test documents processed: 90 out of 96\n"
     ]
    }
   ],
   "source": [
    "dev_test_scores = dev_verifier.predict_proba(\n",
    "    test_X=dev_test_X, test_y=dev_test_y, nb_imposters=30\n",
    ")"
   ]
  },
  {
   "cell_type": "code",
   "execution_count": 20,
   "metadata": {},
   "outputs": [
    {
     "data": {
      "text/plain": [
       "(1, 4)"
      ]
     },
     "execution_count": 20,
     "metadata": {},
     "output_type": "execute_result"
    }
   ],
   "source": [
    "dev_test_X[:, np.array([1, 2, 3, 4])][0].shape"
   ]
  },
  {
   "cell_type": "code",
   "execution_count": 21,
   "metadata": {},
   "outputs": [
    {
     "data": {
      "text/plain": [
       "(1, 10000)"
      ]
     },
     "execution_count": 21,
     "metadata": {},
     "output_type": "execute_result"
    }
   ],
   "source": [
    "dev_test_X[1].shape"
   ]
  },
  {
   "attachments": {},
   "cell_type": "markdown",
   "metadata": {},
   "source": [
    "This gives us as an array of probability scores for each problem, corresponding to the number of iterations in which the target's author's profile was closer to the anonymous document than to one of the imposters:"
   ]
  },
  {
   "cell_type": "code",
   "execution_count": 22,
   "metadata": {
    "collapsed": false
   },
   "outputs": [
    {
     "name": "stdout",
     "output_type": "stream",
     "text": [
      "[0.54956746 0.925      0.28086257 0.07564954 0.06891756 0.23719246\n",
      " 0.122734   1.         1.         0.60127778 0.97833333 0.45436759\n",
      " 0.96333333 1.         0.21615095 0.689      0.97833333 0.0414371\n",
      " 0.069098   0.84866667 0.11956691 0.07060362 0.86666667 0.7212619\n",
      " 0.05059532 0.99       0.21897205 0.695      0.12017579 0.05483521\n",
      " 0.07915433 0.06255912 0.85061111 0.04185901 0.22043407 0.40113709\n",
      " 0.05339389 0.09989206 0.51962302 0.09920503 0.27286903 0.99\n",
      " 0.03941991 0.995      1.         0.06135734 0.66108766 0.1044389\n",
      " 0.12977856 0.81884524 0.24402215 0.96666667 0.19907155 0.915\n",
      " 0.98       0.05783703 0.10885008 0.94666667 0.05815845 0.93\n",
      " 0.995      0.93166667 0.98       0.62833333 0.7275     1.\n",
      " 0.79483333 0.48370379 0.91833333 0.82916667 0.06986484 0.05800062\n",
      " 0.14851908 0.647      0.10542088 0.19622162 0.71210354 0.07445719\n",
      " 1.         0.06655279 0.82159524 0.95916667 0.06963815 0.04883471\n",
      " 1.         0.05591854 1.         0.985      0.13055905 0.05810575\n",
      " 0.05151996 0.83916667 0.05225631 0.07353311 0.92583333 0.88333333]\n"
     ]
    }
   ],
   "source": [
    "print(dev_test_scores)"
   ]
  },
  {
   "attachments": {},
   "cell_type": "markdown",
   "metadata": {},
   "source": [
    "Let us now load the ground truth to check how well we did:"
   ]
  },
  {
   "cell_type": "code",
   "execution_count": 23,
   "metadata": {
    "collapsed": false
   },
   "outputs": [
    {
     "name": "stdout",
     "output_type": "stream",
     "text": [
      "[1.0, 1.0, 0.0, 0.0, 0.0, 0.0, 0.0, 1.0, 1.0, 1.0, 1.0, 1.0, 1.0, 1.0, 1.0, 1.0, 1.0, 0.0, 0.0, 1.0, 0.0, 0.0, 1.0, 1.0, 0.0, 1.0, 0.0, 1.0, 0.0, 0.0, 0.0, 0.0, 1.0, 0.0, 0.0, 1.0, 0.0, 0.0, 1.0, 0.0, 0.0, 1.0, 0.0, 1.0, 1.0, 0.0, 1.0, 0.0, 0.0, 1.0, 0.0, 1.0, 0.0, 0.0, 1.0, 0.0, 0.0, 1.0, 0.0, 1.0, 0.0, 1.0, 1.0, 1.0, 1.0, 1.0, 1.0, 1.0, 1.0, 1.0, 0.0, 0.0, 0.0, 1.0, 0.0, 0.0, 1.0, 0.0, 1.0, 0.0, 1.0, 1.0, 0.0, 0.0, 1.0, 0.0, 1.0, 1.0, 0.0, 0.0, 0.0, 1.0, 0.0, 0.0, 1.0, 0.0]\n"
     ]
    }
   ],
   "source": [
    "dev_gt_scores = load_ground_truth(\n",
    "    filepath=os.sep.join((D, \"train\", \"truth.txt\")), labels=dev_test_labels\n",
    ")\n",
    "print(dev_gt_scores)"
   ]
  },
  {
   "attachments": {},
   "cell_type": "markdown",
   "metadata": {},
   "source": [
    "There is one final step needed: the PAN evaluation measures allow systems to leave a number of difficult problems unanswered, by setting the probability exactly at 0.5. To account for this strict threshold, we fit a score shifter, which will attempt to rectify mid-range score to 0.5. We can tune these parameters as follows:"
   ]
  },
  {
   "cell_type": "code",
   "execution_count": 24,
   "metadata": {
    "collapsed": false
   },
   "outputs": [
    {
     "name": "stderr",
     "output_type": "stream",
     "text": [
      "08/07/2023 03:11:00 [ruzicka:INFO] p1 for optimal combo: 0.2\n",
      "08/07/2023 03:11:00 [ruzicka:INFO] p2 for optimal combo: 0.218\n",
      "08/07/2023 03:11:00 [ruzicka:INFO] AUC for optimal combo: 0.962890625\n",
      "08/07/2023 03:11:00 [ruzicka:INFO] c@1 for optimal combo: 0.9683159722222221\n"
     ]
    }
   ],
   "source": [
    "from ruzicka.score_shifting import ScoreShifter\n",
    "\n",
    "shifter = ScoreShifter()\n",
    "shifter.fit(predicted_scores=dev_test_scores, ground_truth_scores=dev_gt_scores)\n",
    "dev_test_scores = shifter.transform(dev_test_scores)"
   ]
  },
  {
   "attachments": {},
   "cell_type": "markdown",
   "metadata": {},
   "source": [
    "As you can see, this shifter optimizes 2 parameters using a grid search: all values in between *p1* and *p2* will be rectified to 0.5:"
   ]
  },
  {
   "cell_type": "code",
   "execution_count": 25,
   "metadata": {
    "collapsed": false
   },
   "outputs": [
    {
     "name": "stdout",
     "output_type": "stream",
     "text": [
      "[0.6333063069678532, 0.9389423938313132, 0.4145561892030386, 0.007543273439418252, 0.006141627545432334, 0.37900477067800603, 0.017346602387567946, 0.9999991859094389, 0.9999991859094389, 0.6754031883207662, 0.9823605570868693, 0.5558049875730467, 0.9701491986712442, 0.9999991859094389, 0.5, 0.7468170214254776, 0.9823605570868693, 0.0004199942627066528, 0.006179194947041658, 0.8768001476717985, 0.016687191400970063, 0.006492676739468902, 0.8914537777705488, 0.7730811335733696, 0.002326802986245756, 0.9918582802990222, 0.364171706362838, 0.7517015647917276, 0.01681396364137888, 0.0032095791377580694, 0.008272996909436831, 0.004817752828334939, 0.8783831015404907, 0.0005078389681925847, 0.365361922151632, 0.512470539561635, 0.00290948541323467, 0.01259074394288072, 0.608928817389994, 0.012447699530589027, 0.40804872547783666, 0.9918582802990222, 0.0, 0.9959287331042306, 0.9999991859094389, 0.004567533254188501, 0.7240938507979603, 0.013537429719709207, 0.018813331625102847, 0.85252280415502, 0.3845647523342655, 0.9728628338747164, 0.03324063886688515, 0.9308014882208964, 0.9837173746886054, 0.003834580318238562, 0.014455869521075108, 0.9565810226538828, 0.0039015003680955072, 0.9430128466365216, 0.9959287331042306, 0.9443696642382577, 0.9837173746886054, 0.6974288607222826, 0.778159508025582, 0.9999991859094389, 0.8329749391357215, 0.5796873117239932, 0.9335151234243687, 0.8609253817314858, 0.006338857217770912, 0.0038686404179254954, 0.02271524524395852, 0.7126252178617271, 0.013741884441768177, 0.03264726109420047, 0.7656253914834832, 0.007295018890212056, 0.9999991859094389, 0.005649265000931871, 0.8547615531978846, 0.9667571546669037, 0.006291658546949188, 0.001960230507808758, 0.9999991859094389, 0.0034351357400397805, 0.9999991859094389, 0.9877878274938138, 0.0189758348941354, 0.0038905293217595957, 0.002519318152020833, 0.8690662873419026, 0.002672632017624134, 0.007102616898656439, 0.9396208026321813, 0.9050219537879101]\n"
     ]
    }
   ],
   "source": [
    "print(dev_test_scores)"
   ]
  },
  {
   "attachments": {},
   "cell_type": "markdown",
   "metadata": {},
   "source": [
    "We can later apply this optimized score shifter to the test problems. Now the main question: how well would our O2 verifier perform on the development problems, given the optimal *p1* and *p2* found? We answer this question using the three evaluation measures used in the PAN competition."
   ]
  },
  {
   "cell_type": "code",
   "execution_count": 26,
   "metadata": {
    "collapsed": false
   },
   "outputs": [
    {
     "name": "stdout",
     "output_type": "stream",
     "text": [
      "Accuracy:  0.96875\n",
      "AUC:  0.962890625\n",
      "c@1:  0.9683159722222221\n",
      "AUC x c@1:  0.9323823716905381\n"
     ]
    }
   ],
   "source": [
    "from ruzicka.evaluation import pan_metrics\n",
    "\n",
    "dev_acc_score, dev_auc_score, dev_c_at_1_score = pan_metrics(\n",
    "    prediction_scores=dev_test_scores, ground_truth_scores=dev_gt_scores\n",
    ")\n",
    "print(\"Accuracy: \", dev_acc_score)\n",
    "print(\"AUC: \", dev_auc_score)\n",
    "print(\"c@1: \", dev_c_at_1_score)\n",
    "print(\"AUC x c@1: \", dev_auc_score * dev_c_at_1_score)"
   ]
  },
  {
   "cell_type": "code",
   "execution_count": 27,
   "metadata": {},
   "outputs": [
    {
     "data": {
      "text/plain": [
       "0"
      ]
     },
     "execution_count": 27,
     "metadata": {},
     "output_type": "execute_result"
    }
   ],
   "source": [
    "np.array([]).size"
   ]
  },
  {
   "attachments": {},
   "cell_type": "markdown",
   "metadata": {},
   "source": [
    "Our score shifting approach clearly pays off, since we are able to leave difficult problems unswered, yielding to a higher c@1 than pure accuracy. We can now proceed to the test problems. The following code block runs entire parallel to the approach above: only the score shifter isn't retrained again:"
   ]
  },
  {
   "cell_type": "code",
   "execution_count": 28,
   "metadata": {
    "collapsed": false
   },
   "outputs": [
    {
     "name": "stderr",
     "output_type": "stream",
     "text": [
      "08/07/2023 03:11:01 [ruzicka:INFO] # test documents processed: 10 out of 96\n",
      "08/07/2023 03:11:01 [ruzicka:INFO] # test documents processed: 20 out of 96\n",
      "08/07/2023 03:11:01 [ruzicka:INFO] # test documents processed: 30 out of 96\n",
      "08/07/2023 03:11:02 [ruzicka:INFO] # test documents processed: 40 out of 96\n",
      "08/07/2023 03:11:02 [ruzicka:INFO] # test documents processed: 50 out of 96\n",
      "08/07/2023 03:11:02 [ruzicka:INFO] # test documents processed: 60 out of 96\n",
      "08/07/2023 03:11:03 [ruzicka:INFO] # test documents processed: 70 out of 96\n",
      "08/07/2023 03:11:03 [ruzicka:INFO] # test documents processed: 80 out of 96\n",
      "08/07/2023 03:11:04 [ruzicka:INFO] # test documents processed: 90 out of 96\n"
     ]
    },
    {
     "name": "stdout",
     "output_type": "stream",
     "text": [
      "Accuracy:  0.9270833333333334\n",
      "AUC:  0.9661458333333333\n",
      "c@1:  0.9367404513888888\n",
      "AUC x c@1:  0.9050278840241608\n"
     ]
    }
   ],
   "source": [
    "train_data, test_data = load_pan_dataset(D + \"test\")\n",
    "train_labels, train_documents = zip(*train_data)\n",
    "test_labels, test_documents = zip(*test_data)\n",
    "\n",
    "# # vectorize:\n",
    "# vectorizer = Vectorizer(mfi=10000, vector_space=\"tf\", ngram_type=\"word\", ngram_size=1)\n",
    "train_X = vectorizer.fit_transform(train_documents)\n",
    "test_X = vectorizer.transform(test_documents)\n",
    "\n",
    "# encode author labels:\n",
    "label_encoder = LabelEncoder()\n",
    "label_encoder.fit(train_labels + test_labels)\n",
    "train_y = np.array(label_encoder.transform(train_labels), dtype=\"int\")\n",
    "test_y = np.array(label_encoder.transform(test_labels), dtype=\"int\")\n",
    "\n",
    "# fit and predict a verifier on the test data:\n",
    "test_verifier = Order2Verifier(\n",
    "    metric=\"nini\", base=\"profile\", rank=True, nb_bootstrap_iter=100, rnd_prop=0.35\n",
    ")\n",
    "test_verifier.fit(train_X, train_y)\n",
    "test_scores = test_verifier.predict_proba(\n",
    "    test_X=test_X, test_y=np.array(test_y), nb_imposters=30\n",
    ")\n",
    "\n",
    "# load the ground truth:\n",
    "test_gt_scores = load_ground_truth(\n",
    "    filepath=os.sep.join((D, \"test\", \"truth.txt\")), labels=test_labels\n",
    ")\n",
    "\n",
    "# apply the optimzed score shifter:\n",
    "test_scores = shifter.transform(test_scores)\n",
    "\n",
    "test_acc_score, test_auc_score, test_c_at_1_score = pan_metrics(\n",
    "    prediction_scores=test_scores, ground_truth_scores=test_gt_scores\n",
    ")\n",
    "\n",
    "print(\"Accuracy: \", test_acc_score)\n",
    "print(\"AUC: \", test_auc_score)\n",
    "print(\"c@1: \", test_c_at_1_score)\n",
    "print(\"AUC x c@1: \", test_auc_score * test_c_at_1_score)"
   ]
  },
  {
   "attachments": {},
   "cell_type": "markdown",
   "metadata": {},
   "source": [
    "While our final test results are a bit lower, the verifier seems to scale reasonably well to the unseen verification problems in the test set."
   ]
  },
  {
   "attachments": {},
   "cell_type": "markdown",
   "metadata": {},
   "source": [
    "# First Order Verification"
   ]
  },
  {
   "attachments": {},
   "cell_type": "markdown",
   "metadata": {},
   "source": [
    "It is interesting now to compare the GI approach to a first-order verification system, which often yields very competitive results too. Our implementation closely resembles the system proposed by Potha and Stamatatos in 2014 (A Profile-based Method for Authorship Verification). We import and fit this O1 verifier:"
   ]
  },
  {
   "cell_type": "code",
   "execution_count": 29,
   "metadata": {
    "collapsed": false
   },
   "outputs": [
    {
     "name": "stdout",
     "output_type": "stream",
     "text": [
      "[0.42535614 0.74927379 0.26695359 0.16275048 0.21467687 0.29455667\n",
      " 0.26252537 1.         0.80831416 0.45999645 0.52716197 0.36116755\n",
      " 0.7796528  0.55581659 0.21243646 0.54392007 0.48089283 0.07698859\n",
      " 0.14965419 0.4574793  0.24245035 0.10823839 0.45582588 0.28738832\n",
      " 0.13099702 0.4190554  0.16569552 0.32288118 0.17656823 0.13955606\n",
      " 0.16316343 0.16393878 0.38605962 0.06464104 0.26145505 0.32362532\n",
      " 0.13787526 0.21472127 0.39039325 0.21638494 0.36993046 0.63283866\n",
      " 0.07829127 0.57549803 0.81738412 0.13671046 0.21176318 0.17422687\n",
      " 0.19448074 0.32706191 0.242668   0.41381086 0.17834924 0.18266943\n",
      " 0.63603349 0.05323041 0.27473804 0.74735545 0.15256908 0.50023748\n",
      " 0.31438291 0.45844207 0.53372577 0.29979233 0.56232487 0.68896497\n",
      " 0.46943581 0.26551732 0.49437108 0.64728991 0.         0.0435419\n",
      " 0.07987962 0.3401858  0.08148759 0.0793854  0.25232955 0.21950873\n",
      " 0.52490162 0.18992932 0.27613654 0.31032119 0.20150882 0.12103311\n",
      " 0.90724384 0.15537835 0.83401041 0.50631333 0.18294779 0.16173745\n",
      " 0.1402544  0.4173683  0.16090886 0.13517201 0.63980588 0.41182587]\n"
     ]
    }
   ],
   "source": [
    "from ruzicka.Order1Verifier import Order1Verifier\n",
    "\n",
    "dev_verifier = Order1Verifier(metric=\"minmax\", base=\"profile\")\n",
    "dev_verifier.fit(dev_train_X, dev_train_y)\n",
    "dev_test_scores = dev_verifier.predict_proba(test_X=dev_test_X, test_y=dev_test_y)\n",
    "print(dev_test_scores)"
   ]
  },
  {
   "attachments": {},
   "cell_type": "markdown",
   "metadata": {},
   "source": [
    "Note that in this case, the 'probabilities' returned are only distance-based pseudo-probabilities and don't lie in the range of 0-1. Applying the score shifter is therefore quintessential with O1, since it will scale the distances to a more useful range:"
   ]
  },
  {
   "cell_type": "code",
   "execution_count": 30,
   "metadata": {
    "collapsed": false
   },
   "outputs": [
    {
     "name": "stderr",
     "output_type": "stream",
     "text": [
      "08/07/2023 03:11:07 [ruzicka:INFO] p1 for optimal combo: 0.248\n",
      "08/07/2023 03:11:07 [ruzicka:INFO] p2 for optimal combo: 0.29\n",
      "08/07/2023 03:11:07 [ruzicka:INFO] AUC for optimal combo: 0.9713541666666666\n",
      "08/07/2023 03:11:07 [ruzicka:INFO] c@1 for optimal combo: 0.9366319444444444\n"
     ]
    },
    {
     "name": "stdout",
     "output_type": "stream",
     "text": [
      "[0.5920025550340389, 0.8219838618068396, 0.5, 0.04036207822825101, 0.0532398102057862, 0.49913502323345105, 0.5, 0.99999929000071, 0.8639024805791422, 0.6165971533568956, 0.6642846233794497, 0.5464287059225732, 0.8435529354502258, 0.6846293852389597, 0.05268418897992613, 0.6761828624206632, 0.6314335711870445, 0.019093150452799728, 0.03711420225720802, 0.6148099804920136, 0.06012762543291783, 0.026843094921742344, 0.6136360520144619, 0.5, 0.03248722772127578, 0.5875290384741624, 0.041092447436328984, 0.5192454062817186, 0.043788878278152414, 0.03460986751881078, 0.04046448954483097, 0.040656775591436996, 0.5641020588604513, 0.016030961112914004, 0.5, 0.5197737497148793, 0.03419303019619392, 0.05325082165415214, 0.5671789322275539, 0.05366341082910204, 0.5526503662354869, 0.7393149966467563, 0.019416214796527935, 0.6986031934616808, 0.8703421448698241, 0.03390416087433113, 0.052517215227772945, 0.043208221072078175, 0.04823117466306837, 0.5222137226660875, 0.06018160488743134, 0.5838054168173501, 0.0442305661717658, 0.04530197403656096, 0.7415833298023242, 0.013201128336529463, 0.5, 0.8206218357215198, 0.03783709520422564, 0.6451682543035004, 0.5132116435466053, 0.6154935417841143, 0.6689449174346516, 0.5028523387845825, 0.6892502583430122, 0.7791646397463035, 0.6232990926491276, 0.5, 0.6410031175232136, 0.7495753760138892, 0.0, 0.010798380579625852, 0.01981012529518327, 0.5315316746660464, 0.02020890227633144, 0.01968755955378291, 0.5, 0.05443810983125534, 0.662679777058921, 0.04710242314591323, 0.5, 0.5103278260459627, 0.04997413651694609, 0.03001618070220607, 0.9341424832092105, 0.038533792638680446, 0.8821467955100484, 0.6494821024031536, 0.04537100611690296, 0.040110846864309845, 0.03478305576907992, 0.5863311962649791, 0.039905358590282256, 0.03352262448926204, 0.7442617178582008, 0.5823960774296721]\n"
     ]
    }
   ],
   "source": [
    "shifter = ScoreShifter()\n",
    "shifter.fit(predicted_scores=dev_test_scores, ground_truth_scores=dev_gt_scores)\n",
    "dev_test_scores = shifter.transform(dev_test_scores)\n",
    "print(dev_test_scores)"
   ]
  },
  {
   "attachments": {},
   "cell_type": "markdown",
   "metadata": {
    "collapsed": false
   },
   "source": [
    "And again, we are now ready to test the performance of O1 on the test problems."
   ]
  },
  {
   "cell_type": "code",
   "execution_count": 31,
   "metadata": {
    "collapsed": false
   },
   "outputs": [
    {
     "name": "stdout",
     "output_type": "stream",
     "text": [
      "Accuracy:  0.71875\n",
      "AUC:  0.890842013888889\n",
      "c@1:  0.7591145833333333\n",
      "AUC x c@1:  0.6762511641890914\n"
     ]
    }
   ],
   "source": [
    "train_data, test_data = load_pan_dataset(D + \"test\")\n",
    "train_labels, train_documents = zip(*train_data)\n",
    "test_labels, test_documents = zip(*test_data)\n",
    "\n",
    "# vectorize:\n",
    "vectorizer = Vectorizer(mfi=5000, vector_space=\"tf\", ngram_type=\"word\", ngram_size=1)\n",
    "train_X = vectorizer.fit_transform(train_documents)\n",
    "test_X = vectorizer.transform(test_documents)\n",
    "\n",
    "# encode author labels:\n",
    "label_encoder = LabelEncoder()\n",
    "label_encoder.fit(train_labels + test_labels)\n",
    "train_y = np.array(label_encoder.transform(train_labels), dtype=\"int\")\n",
    "test_y = np.array(label_encoder.transform(test_labels), dtype=\"int\")\n",
    "\n",
    "# fit and predict a verifier on the test data:\n",
    "test_verifier = Order1Verifier(metric=\"minmax\", base=\"profile\")\n",
    "test_verifier.fit(train_X, train_y)\n",
    "test_scores = test_verifier.predict_proba(test_X=test_X, test_y=test_y)\n",
    "\n",
    "# load the ground truth:\n",
    "test_gt_scores = load_ground_truth(\n",
    "    filepath=os.sep.join((D, \"test\", \"truth.txt\")), labels=test_labels\n",
    ")\n",
    "\n",
    "# apply the optimzed score shifter:\n",
    "test_scores = shifter.transform(test_scores)\n",
    "\n",
    "test_acc_score, test_auc_score, test_c_at_1_score = pan_metrics(\n",
    "    prediction_scores=test_scores, ground_truth_scores=test_gt_scores\n",
    ")\n",
    "\n",
    "print(\"Accuracy: \", test_acc_score)\n",
    "print(\"AUC: \", test_auc_score)\n",
    "print(\"c@1: \", test_c_at_1_score)\n",
    "print(\"AUC x c@1: \", test_auc_score * test_c_at_1_score)"
   ]
  },
  {
   "cell_type": "code",
   "execution_count": null,
   "metadata": {},
   "outputs": [],
   "source": []
  }
 ],
 "metadata": {
  "kernelspec": {
   "display_name": "py39",
   "language": "python",
   "name": "python3"
  },
  "language_info": {
   "codemirror_mode": {
    "name": "ipython",
    "version": 3
   },
   "file_extension": ".py",
   "mimetype": "text/x-python",
   "name": "python",
   "nbconvert_exporter": "python",
   "pygments_lexer": "ipython3",
   "version": "3.9.11"
  }
 },
 "nbformat": 4,
 "nbformat_minor": 0
}
