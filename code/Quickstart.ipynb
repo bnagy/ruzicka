{
 "cells": [
  {
   "attachments": {},
   "cell_type": "markdown",
   "metadata": {},
   "source": [
    "# Ružička: Authorship Verification in Python"
   ]
  },
  {
   "attachments": {},
   "cell_type": "markdown",
   "metadata": {},
   "source": [
    "In this notebook, we offer a quick tutorial as to how you could use the code in this repository. While the package is very much geared towards our own work in authorship verification, you might some of the more general functions useful. All feedback and comments are welcome. This code assumes Python 2.7+ (Python 3 has not been tested). You do not need to install the library to run the code below, but please note that there are a number of well-known third-party Python libraries, including:\n",
    "+ numpy\n",
    "+ scipy\n",
    "+ scikit-learn\n",
    "+ matplotlib\n",
    "+ seaborn\n",
    "+ numba\n",
    "\n",
    "and preferably (for GPU acceleration and/or JIT-compilation):\n",
    "+ theano\n",
    "+ numbapro\n",
    "\n",
    "We recommend installing Continuum's excellent [Anaconda Python framework](https://www.continuum.io/downloads), which comes bundled with most of these dependencies.\n"
   ]
  },
  {
   "cell_type": "code",
   "execution_count": 1,
   "metadata": {},
   "outputs": [],
   "source": [
    "import logging\n",
    "\n",
    "logging.basicConfig(level=\"INFO\")"
   ]
  },
  {
   "attachments": {},
   "cell_type": "markdown",
   "metadata": {},
   "source": [
    "## Walk through"
   ]
  },
  {
   "attachments": {},
   "cell_type": "markdown",
   "metadata": {},
   "source": [
    "By default, we assume that your data sets are stored in a directory the format on the PAN 2014 track on authorship attribution: a directory should minimally include one folder per verification problem (an `unknown.txt` and at least one `known01.txt`) and a `truth.txt`. E.g. for the corpus of Dutch essays (`../data/2014/du_essays/train`), `truth.txt` contains has a tab-separated line with the ground truth for each problem:\n",
    "\n",
    "```\n",
    "DE001 Y\n",
    "DE002 Y\n",
    "DE003 N\n",
    "DE004 N\n",
    "DE005 N\n",
    "DE006 N\n",
    "DE007 N\n",
    "DE008 Y\n",
    "...\n",
    "```"
   ]
  },
  {
   "attachments": {},
   "cell_type": "markdown",
   "metadata": {},
   "source": [
    "To inspect the problems:"
   ]
  },
  {
   "cell_type": "code",
   "execution_count": 2,
   "metadata": {
    "collapsed": false
   },
   "outputs": [
    {
     "name": "stdout",
     "output_type": "stream",
     "text": [
      "\u001b[34mDE001\u001b[m\u001b[m         \u001b[34mDE021\u001b[m\u001b[m         \u001b[34mDE041\u001b[m\u001b[m         \u001b[34mDE061\u001b[m\u001b[m         \u001b[34mDE081\u001b[m\u001b[m\n",
      "\u001b[34mDE002\u001b[m\u001b[m         \u001b[34mDE022\u001b[m\u001b[m         \u001b[34mDE042\u001b[m\u001b[m         \u001b[34mDE062\u001b[m\u001b[m         \u001b[34mDE082\u001b[m\u001b[m\n",
      "\u001b[34mDE003\u001b[m\u001b[m         \u001b[34mDE023\u001b[m\u001b[m         \u001b[34mDE043\u001b[m\u001b[m         \u001b[34mDE063\u001b[m\u001b[m         \u001b[34mDE083\u001b[m\u001b[m\n",
      "\u001b[34mDE004\u001b[m\u001b[m         \u001b[34mDE024\u001b[m\u001b[m         \u001b[34mDE044\u001b[m\u001b[m         \u001b[34mDE064\u001b[m\u001b[m         \u001b[34mDE084\u001b[m\u001b[m\n",
      "\u001b[34mDE005\u001b[m\u001b[m         \u001b[34mDE025\u001b[m\u001b[m         \u001b[34mDE045\u001b[m\u001b[m         \u001b[34mDE065\u001b[m\u001b[m         \u001b[34mDE085\u001b[m\u001b[m\n",
      "\u001b[34mDE006\u001b[m\u001b[m         \u001b[34mDE026\u001b[m\u001b[m         \u001b[34mDE046\u001b[m\u001b[m         \u001b[34mDE066\u001b[m\u001b[m         \u001b[34mDE086\u001b[m\u001b[m\n",
      "\u001b[34mDE007\u001b[m\u001b[m         \u001b[34mDE027\u001b[m\u001b[m         \u001b[34mDE047\u001b[m\u001b[m         \u001b[34mDE067\u001b[m\u001b[m         \u001b[34mDE087\u001b[m\u001b[m\n",
      "\u001b[34mDE008\u001b[m\u001b[m         \u001b[34mDE028\u001b[m\u001b[m         \u001b[34mDE048\u001b[m\u001b[m         \u001b[34mDE068\u001b[m\u001b[m         \u001b[34mDE088\u001b[m\u001b[m\n",
      "\u001b[34mDE009\u001b[m\u001b[m         \u001b[34mDE029\u001b[m\u001b[m         \u001b[34mDE049\u001b[m\u001b[m         \u001b[34mDE069\u001b[m\u001b[m         \u001b[34mDE089\u001b[m\u001b[m\n",
      "\u001b[34mDE010\u001b[m\u001b[m         \u001b[34mDE030\u001b[m\u001b[m         \u001b[34mDE050\u001b[m\u001b[m         \u001b[34mDE070\u001b[m\u001b[m         \u001b[34mDE090\u001b[m\u001b[m\n",
      "\u001b[34mDE011\u001b[m\u001b[m         \u001b[34mDE031\u001b[m\u001b[m         \u001b[34mDE051\u001b[m\u001b[m         \u001b[34mDE071\u001b[m\u001b[m         \u001b[34mDE091\u001b[m\u001b[m\n",
      "\u001b[34mDE012\u001b[m\u001b[m         \u001b[34mDE032\u001b[m\u001b[m         \u001b[34mDE052\u001b[m\u001b[m         \u001b[34mDE072\u001b[m\u001b[m         \u001b[34mDE092\u001b[m\u001b[m\n",
      "\u001b[34mDE013\u001b[m\u001b[m         \u001b[34mDE033\u001b[m\u001b[m         \u001b[34mDE053\u001b[m\u001b[m         \u001b[34mDE073\u001b[m\u001b[m         \u001b[34mDE093\u001b[m\u001b[m\n",
      "\u001b[34mDE014\u001b[m\u001b[m         \u001b[34mDE034\u001b[m\u001b[m         \u001b[34mDE054\u001b[m\u001b[m         \u001b[34mDE074\u001b[m\u001b[m         \u001b[34mDE094\u001b[m\u001b[m\n",
      "\u001b[34mDE015\u001b[m\u001b[m         \u001b[34mDE035\u001b[m\u001b[m         \u001b[34mDE055\u001b[m\u001b[m         \u001b[34mDE075\u001b[m\u001b[m         \u001b[34mDE095\u001b[m\u001b[m\n",
      "\u001b[34mDE016\u001b[m\u001b[m         \u001b[34mDE036\u001b[m\u001b[m         \u001b[34mDE056\u001b[m\u001b[m         \u001b[34mDE076\u001b[m\u001b[m         \u001b[34mDE096\u001b[m\u001b[m\n",
      "\u001b[34mDE017\u001b[m\u001b[m         \u001b[34mDE037\u001b[m\u001b[m         \u001b[34mDE057\u001b[m\u001b[m         \u001b[34mDE077\u001b[m\u001b[m         \u001b[31mcontents.json\u001b[m\u001b[m\n",
      "\u001b[34mDE018\u001b[m\u001b[m         \u001b[34mDE038\u001b[m\u001b[m         \u001b[34mDE058\u001b[m\u001b[m         \u001b[34mDE078\u001b[m\u001b[m         \u001b[31mtruth.json\u001b[m\u001b[m\n",
      "\u001b[34mDE019\u001b[m\u001b[m         \u001b[34mDE039\u001b[m\u001b[m         \u001b[34mDE059\u001b[m\u001b[m         \u001b[34mDE079\u001b[m\u001b[m         \u001b[31mtruth.txt\u001b[m\u001b[m\n",
      "\u001b[34mDE020\u001b[m\u001b[m         \u001b[34mDE040\u001b[m\u001b[m         \u001b[34mDE060\u001b[m\u001b[m         \u001b[34mDE080\u001b[m\u001b[m\n"
     ]
    }
   ],
   "source": [
    "! ls ../data/2014/du_essays/train"
   ]
  },
  {
   "attachments": {},
   "cell_type": "markdown",
   "metadata": {},
   "source": [
    "Let us now load the set of development problems for the Dutch essays:"
   ]
  },
  {
   "cell_type": "code",
   "execution_count": 3,
   "metadata": {
    "collapsed": false
   },
   "outputs": [],
   "source": [
    "from ruzicka.utilities import *\n",
    "\n",
    "D = \"../data/2014/du_essays/\"\n",
    "dev_train_data, dev_test_data = load_pan_dataset(D + \"train\")"
   ]
  },
  {
   "attachments": {},
   "cell_type": "markdown",
   "metadata": {},
   "source": [
    "This functions loads all documents and splits the development data into a development part (the known documents) and a testing part (the unknown documents). We can unpack these as follows:"
   ]
  },
  {
   "cell_type": "code",
   "execution_count": 4,
   "metadata": {
    "collapsed": true
   },
   "outputs": [],
   "source": [
    "dev_train_labels, dev_train_documents = zip(*dev_train_data)\n",
    "dev_test_labels, dev_test_documents = zip(*dev_test_data)"
   ]
  },
  {
   "attachments": {},
   "cell_type": "markdown",
   "metadata": {},
   "source": [
    "Let us have a look at the actual test texts:"
   ]
  },
  {
   "cell_type": "code",
   "execution_count": 5,
   "metadata": {
    "collapsed": false
   },
   "outputs": [
    {
     "name": "stdout",
     "output_type": "stream",
     "text": [
      "+  ﻿Dankzij het internet zijn we een grote bron aan informatie rijker . A\n",
      "+  ﻿Het is dus begrijpelijk dat de commerciële zenders meer reclame moete\n",
      "+  ﻿\" Hey , vuile nicht ! Hangt er nog stront aan je lul ? \" . Dergelijke\n",
      "+  ﻿Gelijkheid tussen man en vrouw is iets dat ons al eeuwen in de ban ho\n",
      "+  ﻿Gisteren was er opnieuw een protest tegen homofilie in de grootstad P\n",
      "+  ﻿Voetbal is vandaag de dag zonder twijfel de populairste sport in Belg\n",
      "+  ﻿Door de ongekende groei van nieuwsbronnen en de opkomst van het inter\n",
      "+  ﻿Woordenboekgebruik uit interesse De categorie woordenboekgebruikers d\n",
      "+  ﻿Ze bouwden een tegencultuur op die alles verwierp waar hun ouders alt\n",
      "+  ﻿Als we hier in België op straat rondlopen , merken we dat er zeer vee\n"
     ]
    }
   ],
   "source": [
    "for doc in dev_test_documents[:10]:\n",
    "    print(\"+ \", doc[:70])"
   ]
  },
  {
   "attachments": {},
   "cell_type": "markdown",
   "metadata": {},
   "source": [
    "For each of these documents we need to decide whether or not they were in fact written by the target authors proposed:"
   ]
  },
  {
   "cell_type": "code",
   "execution_count": 6,
   "metadata": {
    "collapsed": false
   },
   "outputs": [
    {
     "name": "stdout",
     "output_type": "stream",
     "text": [
      "+  DE001\n",
      "+  DE002\n",
      "+  DE003\n",
      "+  DE004\n",
      "+  DE005\n",
      "+  DE006\n",
      "+  DE007\n",
      "+  DE008\n",
      "+  DE009\n",
      "+  DE010\n"
     ]
    }
   ],
   "source": [
    "for doc in dev_test_labels[:10]:\n",
    "    print(\"+ \", doc[:70])"
   ]
  },
  {
   "attachments": {},
   "cell_type": "markdown",
   "metadata": {},
   "source": [
    "The first and crucial step is to vectorize the documents using a vector space model. Below, we use generic example, using the 10,000 most common word unigrams and a plain *tf* model:"
   ]
  },
  {
   "cell_type": "code",
   "execution_count": 7,
   "metadata": {
    "collapsed": true
   },
   "outputs": [],
   "source": [
    "from ruzicka.vectorization import Vectorizer\n",
    "\n",
    "vectorizer = Vectorizer(mfi=10000, vector_space=\"tf\", ngram_type=\"word\", ngram_size=1)\n",
    "\n",
    "dev_train_X = vectorizer.fit_transform(dev_train_documents)\n",
    "dev_test_X = vectorizer.transform(dev_test_documents)"
   ]
  },
  {
   "cell_type": "code",
   "execution_count": 8,
   "metadata": {},
   "outputs": [
    {
     "data": {
      "text/plain": [
       "numpy.ndarray"
      ]
     },
     "execution_count": 8,
     "metadata": {},
     "output_type": "execute_result"
    }
   ],
   "source": [
    "dev_test_X.__class__"
   ]
  },
  {
   "attachments": {},
   "cell_type": "markdown",
   "metadata": {},
   "source": [
    "Note that we use `sklearn` conventions here: we fit the vectorizer only on the vocabulary of the known documents and apply it it later to the unknown documents (since in real life too, we will not necessarily know the known documents in advance). This gives us two compatible corpus matrices:"
   ]
  },
  {
   "cell_type": "code",
   "execution_count": 9,
   "metadata": {
    "collapsed": false
   },
   "outputs": [
    {
     "name": "stdout",
     "output_type": "stream",
     "text": [
      "(172, 9347)\n",
      "(96, 9347)\n"
     ]
    }
   ],
   "source": [
    "print(dev_train_X.shape)\n",
    "print(dev_test_X.shape)"
   ]
  },
  {
   "attachments": {},
   "cell_type": "markdown",
   "metadata": {},
   "source": [
    "We now encode the author labels in the development problem sets as integers, using sklearn's convenient `LabelEncoder`:"
   ]
  },
  {
   "cell_type": "code",
   "execution_count": 10,
   "metadata": {
    "collapsed": false
   },
   "outputs": [
    {
     "name": "stdout",
     "output_type": "stream",
     "text": [
      "[ 0  1  2  3  4  5  6  7  8  9 10 11 12 13 14 15 16 17 18 19 20 21 22 23\n",
      " 24 25 26 27 28 29 30 31 32 33 34 35 36 37 38 39 40 41 42 43 44 45 46 47\n",
      " 48 49 50 51 52 53 54 55 56 57 58 59 60 61 62 63 64 65 66 67 68 69 70 71\n",
      " 72 73 74 75 76 77 78 79 80 81 82 83 84 85 86 87 88 89 90 91 92 93 94 95]\n"
     ]
    }
   ],
   "source": [
    "from sklearn.preprocessing import LabelEncoder\n",
    "\n",
    "label_encoder = LabelEncoder()\n",
    "label_encoder.fit(dev_train_labels + dev_test_labels)\n",
    "dev_train_y = np.array(label_encoder.transform(dev_train_labels))\n",
    "dev_test_y = np.array(label_encoder.transform(dev_test_labels))\n",
    "print(dev_test_y)"
   ]
  },
  {
   "attachments": {},
   "cell_type": "markdown",
   "metadata": {},
   "source": [
    "We now construct and fit an 'O2' verifier: this extrinsic verification technique is based on the General Imposters framework. We apply it with the minmax metric and a profile base, meaning that the known documents for each author will be represented as a mean centroid:"
   ]
  },
  {
   "cell_type": "code",
   "execution_count": 11,
   "metadata": {
    "collapsed": false
   },
   "outputs": [],
   "source": [
    "from ruzicka.Order2Verifier import Order2Verifier\n",
    "\n",
    "dev_verifier = Order2Verifier(\n",
    "    metric=\"minmax\", base=\"profile\", rank=True, nb_bootstrap_iter=100, rnd_prop=0.35\n",
    ")\n",
    "dev_verifier.fit(dev_train_X, dev_train_y)"
   ]
  },
  {
   "attachments": {},
   "cell_type": "markdown",
   "metadata": {},
   "source": [
    "We can now obtain the probability which this O1 verifier would assign to each combination of an unknown document and the target author suggested in the problem:"
   ]
  },
  {
   "cell_type": "code",
   "execution_count": 12,
   "metadata": {
    "collapsed": false
   },
   "outputs": [
    {
     "name": "stderr",
     "output_type": "stream",
     "text": [
      "07/21/2023 02:18:57 [ruzicka:INFO] # test documents processed: 10 out of 96\n",
      "07/21/2023 02:18:57 [ruzicka:INFO] # test documents processed: 20 out of 96\n",
      "07/21/2023 02:18:57 [ruzicka:INFO] # test documents processed: 30 out of 96\n",
      "07/21/2023 02:18:58 [ruzicka:INFO] # test documents processed: 40 out of 96\n",
      "07/21/2023 02:18:58 [ruzicka:INFO] # test documents processed: 50 out of 96\n",
      "07/21/2023 02:18:58 [ruzicka:INFO] # test documents processed: 60 out of 96\n",
      "07/21/2023 02:18:58 [ruzicka:INFO] # test documents processed: 70 out of 96\n",
      "07/21/2023 02:18:58 [ruzicka:INFO] # test documents processed: 80 out of 96\n",
      "07/21/2023 02:18:59 [ruzicka:INFO] # test documents processed: 90 out of 96\n"
     ]
    }
   ],
   "source": [
    "dev_test_scores = dev_verifier.predict_proba(\n",
    "    test_X=dev_test_X, test_y=dev_test_y, nb_imposters=30\n",
    ")"
   ]
  },
  {
   "attachments": {},
   "cell_type": "markdown",
   "metadata": {},
   "source": [
    "This gives us as an array of probability scores for each problem, corresponding to the number of iterations in which the target's author's profile was closer to the anonymous document than to one of the imposters:"
   ]
  },
  {
   "cell_type": "code",
   "execution_count": 13,
   "metadata": {
    "collapsed": false
   },
   "outputs": [
    {
     "name": "stdout",
     "output_type": "stream",
     "text": [
      "[0.75358965 0.70353211 0.08879798 0.0732806  0.2974103  0.161985\n",
      " 0.11846959 0.995      0.995      0.78442063 0.60322655 0.3905101\n",
      " 0.89333333 0.9425     0.09385077 0.72146825 0.70299101 0.05577025\n",
      " 0.19989368 0.53658474 0.08663092 0.06130266 0.59212103 0.47587956\n",
      " 0.12250346 0.81383333 0.17062584 0.63791209 0.16567762 0.12824681\n",
      " 0.07325937 0.07179835 0.459573   0.08222499 0.05867227 0.47490065\n",
      " 0.07409308 0.18723689 0.25447591 0.05248238 0.27360082 0.83028943\n",
      " 0.1190274  0.7882619  0.98666667 0.04531036 0.50420403 0.15220609\n",
      " 0.06319807 0.40273145 0.11989127 0.52161849 0.22113008 0.5668017\n",
      " 0.75158333 0.10384333 0.15120377 0.77019048 0.11440043 0.85074242\n",
      " 0.96166667 0.62213362 0.92783333 0.44565761 0.56824733 0.92429167\n",
      " 0.73537042 0.28641346 0.67630159 0.8807619  0.393677   0.12197395\n",
      " 0.17036251 0.51851587 0.25235617 0.32814221 0.43530778 0.06286593\n",
      " 0.955      0.06893487 0.87310119 0.35665054 0.04649806 0.05080119\n",
      " 0.995      0.04929732 1.         0.66844048 0.10608256 0.03889033\n",
      " 0.06714261 0.7831912  0.06664446 0.06960198 0.59439694 0.67825433]\n"
     ]
    }
   ],
   "source": [
    "print(dev_test_scores)"
   ]
  },
  {
   "attachments": {},
   "cell_type": "markdown",
   "metadata": {},
   "source": [
    "Let us now load the ground truth to check how well we did:"
   ]
  },
  {
   "cell_type": "code",
   "execution_count": 14,
   "metadata": {
    "collapsed": false
   },
   "outputs": [
    {
     "name": "stdout",
     "output_type": "stream",
     "text": [
      "[1.0, 1.0, 0.0, 0.0, 0.0, 0.0, 0.0, 1.0, 1.0, 1.0, 1.0, 1.0, 1.0, 1.0, 1.0, 1.0, 1.0, 0.0, 0.0, 1.0, 0.0, 0.0, 1.0, 1.0, 0.0, 1.0, 0.0, 1.0, 0.0, 0.0, 0.0, 0.0, 1.0, 0.0, 0.0, 1.0, 0.0, 0.0, 1.0, 0.0, 0.0, 1.0, 0.0, 1.0, 1.0, 0.0, 1.0, 0.0, 0.0, 1.0, 0.0, 1.0, 0.0, 0.0, 1.0, 0.0, 0.0, 1.0, 0.0, 1.0, 0.0, 1.0, 1.0, 1.0, 1.0, 1.0, 1.0, 1.0, 1.0, 1.0, 0.0, 0.0, 0.0, 1.0, 0.0, 0.0, 1.0, 0.0, 1.0, 0.0, 1.0, 1.0, 0.0, 0.0, 1.0, 0.0, 1.0, 1.0, 0.0, 0.0, 0.0, 1.0, 0.0, 0.0, 1.0, 0.0]\n"
     ]
    }
   ],
   "source": [
    "dev_gt_scores = load_ground_truth(\n",
    "    filepath=os.sep.join((D, \"train\", \"truth.txt\")), labels=dev_test_labels\n",
    ")\n",
    "print(dev_gt_scores)"
   ]
  },
  {
   "attachments": {},
   "cell_type": "markdown",
   "metadata": {},
   "source": [
    "There is one final step needed: the PAN evaluation measures allow systems to leave a number of difficult problems unanswered, by setting the probability exactly at 0.5. To account for this strict threshold, we fit a score shifter, which will attempt to rectify mid-range score to 0.5. We can tune these parameters as follows:"
   ]
  },
  {
   "cell_type": "code",
   "execution_count": 15,
   "metadata": {
    "collapsed": false
   },
   "outputs": [
    {
     "name": "stderr",
     "output_type": "stream",
     "text": [
      "07/21/2023 02:19:02 [ruzicka:INFO] p1 for optimal combo: 0.23\n",
      "07/21/2023 02:19:02 [ruzicka:INFO] p2 for optimal combo: 0.4\n",
      "07/21/2023 02:19:02 [ruzicka:INFO] AUC for optimal combo: 0.9505208333333334\n",
      "07/21/2023 02:19:02 [ruzicka:INFO] c@1 for optimal combo: 0.9456380208333333\n"
     ]
    }
   ],
   "source": [
    "from ruzicka.score_shifting import ScoreShifter\n",
    "\n",
    "shifter = ScoreShifter()\n",
    "shifter.fit(predicted_scores=dev_test_scores, ground_truth_scores=dev_gt_scores)\n",
    "dev_test_scores = shifter.transform(dev_test_scores)"
   ]
  },
  {
   "attachments": {},
   "cell_type": "markdown",
   "metadata": {},
   "source": [
    "As you can see, this shifter optimizes 2 parameters using a grid search: all values in between *p1* and *p2* will be rectified to 0.5:"
   ]
  },
  {
   "cell_type": "code",
   "execution_count": 16,
   "metadata": {
    "collapsed": false
   },
   "outputs": [
    {
     "name": "stdout",
     "output_type": "stream",
     "text": [
      "[0.8461713398450343, 0.8149214992862273, 0.01194323523989824, 0.008229820571725902, 0.5, 0.029457381073969963, 0.019043850825898014, 0.996878608022189, 0.996878608022189, 0.8654184598519357, 0.7523029079980297, 0.5, 0.9334103044733651, 0.9641039922551733, 0.013152401549281253, 0.8261186484741627, 0.8145837061729677, 0.004039478054827024, 0.03852918146775924, 0.7106998642531701, 0.011424643348972715, 0.00536342052248279, 0.7453699682800238, 0.6728029333056706, 0.020009183167422295, 0.8837801720261698, 0.03152519150877273, 0.7739563391892905, 0.030341048711086928, 0.02138360571665348, 0.008224739936851662, 0.007875108176681115, 0.662623101042348, 0.010370273948991645, 0.004733950514891202, 0.6721918215982434, 0.008424253777484122, 0.03550032679274277, 0.5, 0.0032526674779033244, 0.5, 0.8940533593918357, 0.01917733881420214, 0.8678164816253651, 0.9916762880591706, 0.001536355298303081, 0.6904852860900496, 0.027117222784225264, 0.005817004155629777, 0.6271381462195903, 0.01938406743782056, 0.7013567569140291, 0.043611196559690195, 0.7295636592555135, 0.844918841902423, 0.015543689052362778, 0.026877358873502653, 0.8565348791912768, 0.018070073852827374, 0.9068217200805567, 0.9760693281701156, 0.7641061828466815, 0.9549479091202611, 0.6539360224056041, 0.730466133522448, 0.9527369231359784, 0.83479747115679, 0.5, 0.7979220742746032, 0.9255622332148687, 0.5, 0.019882466389459078, 0.031462174736627074, 0.6994198584009313, 0.5, 0.5, 0.6474748455010576, 0.005737521949676411, 0.9719074721997009, 0.007189859941478989, 0.9207798147917227, 0.5, 0.0018205794876693423, 0.0028503480514184003, 0.996878608022189, 0.002490461344955262, 1.0, 0.7930145524428227, 0.016079551665086907, 0.0, 0.006760959031248175, 0.8646509487508982, 0.006641749420345378, 0.007349504237797503, 0.7467907702187656, 0.7991411287317383]\n"
     ]
    }
   ],
   "source": [
    "print(dev_test_scores)"
   ]
  },
  {
   "attachments": {},
   "cell_type": "markdown",
   "metadata": {},
   "source": [
    "We can later apply this optimized score shifter to the test problems. Now the main question: how well would our O2 verifier perform on the development problems, given the optimal *p1* and *p2* found? We answer this question using the three evaluation measures used in the PAN competition."
   ]
  },
  {
   "cell_type": "code",
   "execution_count": 17,
   "metadata": {
    "collapsed": false
   },
   "outputs": [
    {
     "name": "stdout",
     "output_type": "stream",
     "text": [
      "Accuracy:  0.90625\n",
      "AUC:  0.9505208333333334\n",
      "c@1:  0.9456380208333333\n",
      "AUC x c@1:  0.898848639594184\n"
     ]
    }
   ],
   "source": [
    "from ruzicka.evaluation import pan_metrics\n",
    "\n",
    "dev_acc_score, dev_auc_score, dev_c_at_1_score = pan_metrics(\n",
    "    prediction_scores=dev_test_scores, ground_truth_scores=dev_gt_scores\n",
    ")\n",
    "print(\"Accuracy: \", dev_acc_score)\n",
    "print(\"AUC: \", dev_auc_score)\n",
    "print(\"c@1: \", dev_c_at_1_score)\n",
    "print(\"AUC x c@1: \", dev_auc_score * dev_c_at_1_score)"
   ]
  },
  {
   "attachments": {},
   "cell_type": "markdown",
   "metadata": {},
   "source": [
    "Our score shifting approach clearly pays off, since we are able to leave difficult problems unswered, yielding to a higher c@1 than pure accuracy. We can now proceed to the test problems. The following code block runs entire parallel to the approach above: only the score shifter isn't retrained again:"
   ]
  },
  {
   "cell_type": "code",
   "execution_count": 18,
   "metadata": {
    "collapsed": false
   },
   "outputs": [
    {
     "name": "stderr",
     "output_type": "stream",
     "text": [
      "07/21/2023 02:19:03 [ruzicka:INFO] # test documents processed: 10 out of 96\n",
      "07/21/2023 02:19:03 [ruzicka:INFO] # test documents processed: 20 out of 96\n",
      "07/21/2023 02:19:03 [ruzicka:INFO] # test documents processed: 30 out of 96\n",
      "07/21/2023 02:19:03 [ruzicka:INFO] # test documents processed: 40 out of 96\n",
      "07/21/2023 02:19:04 [ruzicka:INFO] # test documents processed: 50 out of 96\n",
      "07/21/2023 02:19:04 [ruzicka:INFO] # test documents processed: 60 out of 96\n",
      "07/21/2023 02:19:04 [ruzicka:INFO] # test documents processed: 70 out of 96\n",
      "07/21/2023 02:19:04 [ruzicka:INFO] # test documents processed: 80 out of 96\n",
      "07/21/2023 02:19:04 [ruzicka:INFO] # test documents processed: 90 out of 96\n"
     ]
    },
    {
     "name": "stdout",
     "output_type": "stream",
     "text": [
      "Accuracy:  0.8854166666666666\n",
      "AUC:  0.9739583333333334\n",
      "c@1:  0.9276258680555555\n",
      "AUC x c@1:  0.9034689444082754\n"
     ]
    }
   ],
   "source": [
    "train_data, test_data = load_pan_dataset(D + \"test\")\n",
    "train_labels, train_documents = zip(*train_data)\n",
    "test_labels, test_documents = zip(*test_data)\n",
    "\n",
    "# vectorize:\n",
    "vectorizer = Vectorizer(mfi=10000, vector_space=\"tf\", ngram_type=\"word\", ngram_size=1)\n",
    "train_X = vectorizer.fit_transform(train_documents)\n",
    "test_X = vectorizer.transform(test_documents)\n",
    "\n",
    "# encode author labels:\n",
    "label_encoder = LabelEncoder()\n",
    "label_encoder.fit(train_labels + test_labels)\n",
    "train_y = np.array(label_encoder.transform(train_labels), dtype=\"int\")\n",
    "test_y = np.array(label_encoder.transform(test_labels), dtype=\"int\")\n",
    "\n",
    "# fit and predict a verifier on the test data:\n",
    "test_verifier = Order2Verifier(\n",
    "    metric=\"minmax\", base=\"profile\", rank=True, nb_bootstrap_iter=100, rnd_prop=0.35\n",
    ")\n",
    "test_verifier.fit(train_X, train_y)\n",
    "test_scores = test_verifier.predict_proba(\n",
    "    test_X=test_X, test_y=np.array(test_y), nb_imposters=30\n",
    ")\n",
    "\n",
    "# load the ground truth:\n",
    "test_gt_scores = load_ground_truth(\n",
    "    filepath=os.sep.join((D, \"test\", \"truth.txt\")), labels=test_labels\n",
    ")\n",
    "\n",
    "# apply the optimzed score shifter:\n",
    "test_scores = shifter.transform(test_scores)\n",
    "\n",
    "test_acc_score, test_auc_score, test_c_at_1_score = pan_metrics(\n",
    "    prediction_scores=test_scores, ground_truth_scores=test_gt_scores\n",
    ")\n",
    "\n",
    "print(\"Accuracy: \", test_acc_score)\n",
    "print(\"AUC: \", test_auc_score)\n",
    "print(\"c@1: \", test_c_at_1_score)\n",
    "print(\"AUC x c@1: \", test_auc_score * test_c_at_1_score)"
   ]
  },
  {
   "attachments": {},
   "cell_type": "markdown",
   "metadata": {},
   "source": [
    "While our final test results are a bit lower, the verifier seems to scale reasonably well to the unseen verification problems in the test set."
   ]
  },
  {
   "attachments": {},
   "cell_type": "markdown",
   "metadata": {},
   "source": [
    "# First Order Verification"
   ]
  },
  {
   "attachments": {},
   "cell_type": "markdown",
   "metadata": {},
   "source": [
    "It is interesting now to compare the GI approach to a first-order verification system, which often yields very competitive results too. Our implementation closely resembles the system proposed by Potha and Stamatatos in 2014 (A Profile-based Method for Authorship Verification). We import and fit this O1 verifier:"
   ]
  },
  {
   "cell_type": "code",
   "execution_count": 19,
   "metadata": {
    "collapsed": false
   },
   "outputs": [
    {
     "name": "stdout",
     "output_type": "stream",
     "text": [
      "[7.01701389e-01 7.27071174e-01 3.76331733e-01 2.88794318e-01\n",
      " 4.90409427e-01 4.27132694e-01 3.89021319e-01 8.98192784e-01\n",
      " 8.61084515e-01 6.34507071e-01 5.58205461e-01 5.11698323e-01\n",
      " 7.80041118e-01 7.29013056e-01 2.33797115e-01 6.14428227e-01\n",
      " 3.00901073e-01 1.54614571e-01 3.77635597e-01 5.08868067e-01\n",
      " 3.61916662e-01 2.05110484e-01 5.61369766e-01 4.35112027e-01\n",
      " 3.47092624e-01 4.76222136e-01 2.90966704e-01 4.25212460e-01\n",
      " 3.30160565e-01 2.82626913e-01 2.93608704e-01 2.50841079e-01\n",
      " 4.04443303e-01 2.20956493e-01 2.75386099e-01 4.93162012e-01\n",
      " 1.84686492e-01 4.19353839e-01 1.80123950e-01 3.01737629e-01\n",
      " 4.68989173e-01 6.70957431e-01 3.42831850e-01 6.01500209e-01\n",
      " 8.86454495e-01 1.07882863e-01 4.63055368e-01 3.90022158e-01\n",
      " 2.62076781e-01 2.19900711e-01 3.54165384e-01 3.32777758e-01\n",
      " 3.84111272e-01 2.31650037e-01 6.09673932e-01 1.75322827e-01\n",
      " 4.45181997e-01 6.94471446e-01 3.78935565e-01 6.27183739e-01\n",
      " 5.08018571e-01 6.30246320e-01 8.07823689e-01 5.81900865e-01\n",
      " 5.38796443e-01 7.26327119e-01 6.16353303e-01 3.68591715e-01\n",
      " 6.12683495e-01 7.62574115e-01 1.19201610e-01 2.22044605e-16\n",
      " 1.43187316e-02 4.64826109e-01 2.07245233e-01 5.41420920e-02\n",
      " 3.22930734e-01 2.76916512e-01 7.82553115e-01 2.53037884e-01\n",
      " 4.99092460e-01 4.01785718e-01 2.42495506e-01 2.60907431e-01\n",
      " 8.51328753e-01 2.35752666e-01 1.00000000e+00 6.26897034e-01\n",
      " 2.29790270e-01 1.04482370e-01 2.66608814e-01 4.88093387e-01\n",
      " 3.14576794e-01 1.58305210e-01 5.28108990e-01 5.39476725e-01]\n"
     ]
    }
   ],
   "source": [
    "from ruzicka.Order1Verifier import Order1Verifier\n",
    "\n",
    "dev_verifier = Order1Verifier(metric=\"minmax\", base=\"profile\")\n",
    "dev_verifier.fit(dev_train_X, dev_train_y)\n",
    "dev_test_scores = dev_verifier.predict_proba(test_X=dev_test_X, test_y=dev_test_y)\n",
    "print(dev_test_scores)"
   ]
  },
  {
   "attachments": {},
   "cell_type": "markdown",
   "metadata": {},
   "source": [
    "Note that in this case, the 'probabilities' returned are only distance-based pseudo-probabilities and don't lie in the range of 0-1. Applying the score shifter is therefore quintessential with O1, since it will scale the distances to a more useful range:"
   ]
  },
  {
   "cell_type": "code",
   "execution_count": 20,
   "metadata": {
    "collapsed": false
   },
   "outputs": [
    {
     "name": "stderr",
     "output_type": "stream",
     "text": [
      "07/21/2023 02:19:08 [ruzicka:INFO] p1 for optimal combo: 0.4\n",
      "07/21/2023 02:19:08 [ruzicka:INFO] p2 for optimal combo: 0.47\n",
      "07/21/2023 02:19:08 [ruzicka:INFO] AUC for optimal combo: 0.904513888888889\n",
      "07/21/2023 02:19:08 [ruzicka:INFO] c@1 for optimal combo: 0.8741319444444444\n"
     ]
    },
    {
     "name": "stdout",
     "output_type": "stream",
     "text": [
      "[0.8419017359935173, 0.8553477220231838, 0.15053269329768626, 0.11551772735208198, 0.7299169963137953, 0.5, 0.15560852751315557, 0.9460421752963407, 0.9263747928625592, 0.8062887475417948, 0.765848894174316, 0.7412001114343534, 0.8834217927147184, 0.85637691987103, 0.09351884596681884, 0.7956469605047912, 0.12036042901403372, 0.061845828485266735, 0.15105423890906988, 0.7397000756258421, 0.144766664715685, 0.08204419361515838, 0.7675259759154384, 0.5, 0.13883704976265296, 0.7223977320117336, 0.11638668160158078, 0.5, 0.13206422617873098, 0.1130507651392888, 0.1174434814338157, 0.10033643156983099, 0.5, 0.08838259739667048, 0.11015443956248164, 0.7313758661859044, 0.07387459694578445, 0.5, 0.07204958015563766, 0.12069505173174132, 0.5, 0.8256074382194236, 0.13713273983072913, 0.7887951107272342, 0.9398208822606706, 0.04315314523239408, 0.5, 0.15600886329938662, 0.10483071236672521, 0.08796028455792115, 0.14166615370159674, 0.1331111032379135, 0.15364450871256846, 0.09266001468198548, 0.7931271839179548, 0.07012913081205428, 0.5, 0.838069866568929, 0.15157422580985602, 0.8024073819127057, 0.7392498428352992, 0.8040305494804385, 0.8981465553673609, 0.7784074583604369, 0.7555621150452063, 0.8549533731300153, 0.7966672505540884, 0.14743668584554348, 0.7947222521075312, 0.8741642811277679, 0.047680644133910925, 0.0, 0.005727492632547195, 0.5, 0.0828980933680872, 0.021656836816826803, 0.12917229372322583, 0.11076660494269606, 0.8847531508635005, 0.10121515348038818, 0.734519004012968, 0.5, 0.09699820241007873, 0.10436297236752855, 0.9212042390149381, 0.09430106633020129, 1.0, 0.8022554282517422, 0.09191610786854282, 0.041792948004595154, 0.1066435256806398, 0.7286894950886336, 0.12583071761432899, 0.06332208403680958, 0.7498977649536398, 0.7559226643204084]\n"
     ]
    }
   ],
   "source": [
    "shifter = ScoreShifter()\n",
    "shifter.fit(predicted_scores=dev_test_scores, ground_truth_scores=dev_gt_scores)\n",
    "dev_test_scores = shifter.transform(dev_test_scores)\n",
    "print(dev_test_scores)"
   ]
  },
  {
   "attachments": {},
   "cell_type": "markdown",
   "metadata": {
    "collapsed": false
   },
   "source": [
    "And again, we are now ready to test the performance of O1 on the test problems."
   ]
  },
  {
   "cell_type": "code",
   "execution_count": 21,
   "metadata": {
    "collapsed": false
   },
   "outputs": [
    {
     "name": "stdout",
     "output_type": "stream",
     "text": [
      "Accuracy:  0.8125\n",
      "AUC:  0.8899739583333334\n",
      "c@1:  0.830078125\n",
      "AUC x c@1:  0.7387479146321615\n"
     ]
    }
   ],
   "source": [
    "train_data, test_data = load_pan_dataset(D + \"test\")\n",
    "train_labels, train_documents = zip(*train_data)\n",
    "test_labels, test_documents = zip(*test_data)\n",
    "\n",
    "# vectorize:\n",
    "vectorizer = Vectorizer(mfi=10000, vector_space=\"tf\", ngram_type=\"word\", ngram_size=1)\n",
    "train_X = vectorizer.fit_transform(train_documents)\n",
    "test_X = vectorizer.transform(test_documents)\n",
    "\n",
    "# encode author labels:\n",
    "label_encoder = LabelEncoder()\n",
    "label_encoder.fit(train_labels + test_labels)\n",
    "train_y = np.array(label_encoder.transform(train_labels), dtype=\"int\")\n",
    "test_y = np.array(label_encoder.transform(test_labels), dtype=\"int\")\n",
    "\n",
    "# fit and predict a verifier on the test data:\n",
    "test_verifier = Order1Verifier(metric=\"minmax\", base=\"profile\")\n",
    "test_verifier.fit(train_X, train_y)\n",
    "test_scores = test_verifier.predict_proba(test_X=test_X, test_y=test_y)\n",
    "\n",
    "# load the ground truth:\n",
    "test_gt_scores = load_ground_truth(\n",
    "    filepath=os.sep.join((D, \"test\", \"truth.txt\")), labels=test_labels\n",
    ")\n",
    "\n",
    "# apply the optimzed score shifter:\n",
    "test_scores = shifter.transform(test_scores)\n",
    "\n",
    "test_acc_score, test_auc_score, test_c_at_1_score = pan_metrics(\n",
    "    prediction_scores=test_scores, ground_truth_scores=test_gt_scores\n",
    ")\n",
    "\n",
    "print(\"Accuracy: \", test_acc_score)\n",
    "print(\"AUC: \", test_auc_score)\n",
    "print(\"c@1: \", test_c_at_1_score)\n",
    "print(\"AUC x c@1: \", test_auc_score * test_c_at_1_score)"
   ]
  },
  {
   "cell_type": "code",
   "execution_count": null,
   "metadata": {},
   "outputs": [],
   "source": []
  }
 ],
 "metadata": {
  "kernelspec": {
   "display_name": "py39",
   "language": "python",
   "name": "python3"
  },
  "language_info": {
   "codemirror_mode": {
    "name": "ipython",
    "version": 3
   },
   "file_extension": ".py",
   "mimetype": "text/x-python",
   "name": "python",
   "nbconvert_exporter": "python",
   "pygments_lexer": "ipython3",
   "version": "3.9.11"
  }
 },
 "nbformat": 4,
 "nbformat_minor": 0
}
